{
 "cells": [
  {
   "cell_type": "code",
   "execution_count": 5,
   "id": "initial_id",
   "metadata": {
    "collapsed": true,
    "ExecuteTime": {
     "end_time": "2024-05-31T11:21:53.294427500Z",
     "start_time": "2024-05-31T11:21:53.247724200Z"
    }
   },
   "outputs": [],
   "source": [
    "import torch\n",
    "batch_1 = torch.randn(10,3,4)\n",
    "batch_2 = torch.randn(10,4,5)"
   ]
  },
  {
   "cell_type": "code",
   "outputs": [
    {
     "data": {
      "text/plain": "tensor([[[ 1.6743, -0.8272, -0.3609,  0.7542],\n         [ 0.5323, -1.1588,  1.9887, -0.3474],\n         [ 1.9591,  0.7905, -0.1633, -1.0724]],\n\n        [[ 2.0124,  0.6733, -0.5478,  0.7431],\n         [-0.6953,  0.6167,  2.4518, -0.4400],\n         [ 1.4976,  0.0760, -0.2469, -1.4151]],\n\n        [[-0.3367,  0.2401, -0.1449,  2.0110],\n         [-0.3922, -0.1357, -0.2414, -0.7573],\n         [ 2.6205,  1.4139, -0.7993, -0.3800]],\n\n        [[-1.4319, -0.0677,  1.0657, -1.2914],\n         [ 1.0597, -1.3503, -0.3300,  0.8480],\n         [ 1.0508,  0.5948, -0.3223, -0.8292]],\n\n        [[ 0.1860, -0.3744,  1.4325,  0.6499],\n         [ 0.4303,  1.2764, -1.0879, -0.8163],\n         [-1.2706,  2.1664, -0.4768,  0.0133]],\n\n        [[-1.2981,  1.8120, -0.4613, -0.9221],\n         [-0.5122,  0.5270, -2.2312,  0.1325],\n         [-0.7020, -0.8781,  0.2396, -0.2424]],\n\n        [[-0.1011, -0.3292, -0.2176, -0.5015],\n         [ 0.0395, -0.0826, -0.3189,  0.2788],\n         [-0.1910, -0.6419,  0.1220,  1.2180]],\n\n        [[-0.1577,  0.9291,  0.4758,  1.2054],\n         [-0.6372,  0.1612,  0.1920,  0.5368],\n         [-0.5288, -0.0125,  0.4411, -0.1841]],\n\n        [[-0.9873, -1.5469,  0.5060, -0.7211],\n         [ 0.9286, -0.0904,  0.9132,  0.1948],\n         [-1.2312,  0.3276, -0.4181,  1.5232]],\n\n        [[ 0.8092,  0.0626, -1.4252,  1.1443],\n         [-0.3980,  1.1051,  0.7794, -2.4684],\n         [-1.0013, -0.4830, -0.4753, -0.2653]]])"
     },
     "execution_count": 6,
     "metadata": {},
     "output_type": "execute_result"
    }
   ],
   "source": [
    "batch_1"
   ],
   "metadata": {
    "collapsed": false,
    "ExecuteTime": {
     "end_time": "2024-05-31T11:21:53.302188Z",
     "start_time": "2024-05-31T11:21:53.268817600Z"
    }
   },
   "id": "26acb3fed031cace",
   "execution_count": 6
  },
  {
   "cell_type": "code",
   "outputs": [
    {
     "data": {
      "text/plain": "tensor([[[-2.3823, -0.8592,  2.9826, -3.4849, -0.8986],\n         [ 2.8802,  3.5289, -0.6811, -0.6005, -1.2251],\n         [ 1.9353,  0.2378,  0.6514,  0.9045,  0.8329]],\n\n        [[-0.7346, -1.5957,  0.1700, -3.4987, -2.0320],\n         [-0.8411,  5.0411,  0.1932,  3.8514,  1.5175],\n         [-0.9290, -1.3251,  1.0748, -2.9015, -2.1409]],\n\n        [[-1.1047,  0.8052,  3.3383, -2.1602, -1.5278],\n         [ 0.0897, -0.0083, -2.3502,  0.4467,  0.4129],\n         [-4.7520,  1.2016,  2.4772,  6.5534,  1.2486]],\n\n        [[-1.5291, -1.1849, -0.9888,  3.4016, -5.5225],\n         [ 3.0759, -1.8484,  1.4577, -1.1097,  4.0741],\n         [ 0.9937,  3.6306,  1.3028, -3.4389, -0.1400]],\n\n        [[-0.0510, -3.2663,  0.1811,  0.2530,  0.3498],\n         [-0.9202,  2.1356, -0.8940, -1.2532, -0.7563],\n         [ 2.1388, -0.1662,  1.6198, -6.0431, -2.6430]],\n\n        [[ 1.2410, -5.7289,  3.6741, -2.5091,  4.3891],\n         [ 1.3305, -2.6598,  1.2871, -1.5959,  1.0365],\n         [ 1.2228,  0.5009,  2.7455,  0.0435, -1.8169]],\n\n        [[-0.4297, -0.3613,  0.6208, -0.3943,  1.0031],\n         [ 0.4098,  0.1318,  0.1280, -0.4769,  0.1790],\n         [ 1.9574,  0.5841, -0.1292, -1.5192, -0.3963]],\n\n        [[ 0.5889, -2.2306, -0.4005,  0.5470, -3.3190],\n         [-1.1911, -0.3308, -0.6356,  0.2504, -1.0696],\n         [-1.0877,  0.1105,  0.1022,  0.0754,  0.3615]],\n\n        [[ 3.1893, -0.6412,  2.5858, -1.8613, -0.5128],\n         [ 1.6615, -2.0709,  1.0366, -1.5003,  0.1361],\n         [-0.3370,  4.1820,  1.8224,  0.7153,  0.5037]],\n\n        [[-0.0305, -1.0888,  1.6407,  1.2694,  0.3390],\n         [-1.2972,  0.2835, -3.2212, -3.4568, -3.6720],\n         [ 0.5413,  1.4682, -0.4682, -0.1716,  1.2115]]])"
     },
     "execution_count": 7,
     "metadata": {},
     "output_type": "execute_result"
    }
   ],
   "source": [
    "result = torch.bmm(batch_1,batch_2)\n",
    "result"
   ],
   "metadata": {
    "collapsed": false,
    "ExecuteTime": {
     "end_time": "2024-05-31T11:21:53.358260Z",
     "start_time": "2024-05-31T11:21:53.285175400Z"
    }
   },
   "id": "e6cd9592e58b7cdc",
   "execution_count": 7
  },
  {
   "cell_type": "code",
   "outputs": [
    {
     "data": {
      "text/plain": "torch.Size([10, 3, 5])"
     },
     "execution_count": 8,
     "metadata": {},
     "output_type": "execute_result"
    }
   ],
   "source": [
    "result.shape"
   ],
   "metadata": {
    "collapsed": false,
    "ExecuteTime": {
     "end_time": "2024-05-31T11:22:11.716572600Z",
     "start_time": "2024-05-31T11:22:11.704484300Z"
    }
   },
   "id": "4a24f4f0c6799aef",
   "execution_count": 8
  },
  {
   "cell_type": "code",
   "outputs": [],
   "source": [
    "import torch\n",
    "\n",
    "batch_size = 1 # 批量大小\n",
    "seq_len = 3\n",
    "input_size = 4\n",
    "hidden_size = 2\n",
    "\n",
    "cell = torch.nn.RNN(input_size = input_size, hidden_size = hidden_size)\n",
    "\n",
    "dataset = torch.randn(seq_len,batch_size,input_size)\n",
    "hidden = torch.zeros(batch_size,hidden_size) # h0\n",
    "\n",
    "# 对dataset进行遍历，每次取出序列中的一个元素，即先取x1,再去x2,最后取x3\n",
    "for idx,input in enumerate(dataset):\n",
    "    print('=' * 20,idx,'='*20)\n",
    "    print('Input size:',input.shape)\n",
    "    \n",
    "    hidden = cell(input, hidden) # cell中的hidden为上一次输出的隐层，等号左边的hidden为这一次的隐层。\n",
    "    \n",
    "    print('outputs size',hidden.shape)\n",
    "    print(hidden)"
   ],
   "metadata": {
    "collapsed": false
   },
   "id": "f38410c813641429"
  },
  {
   "cell_type": "markdown",
   "source": [
    "## --------????--------"
   ],
   "metadata": {
    "collapsed": false
   },
   "id": "e9f6cb1ae2969557"
  },
  {
   "cell_type": "code",
   "outputs": [
    {
     "name": "stdout",
     "output_type": "stream",
     "text": [
      "114\n",
      "114\n",
      "1\n",
      "1\n",
      "(array([[[0.01544401],\n",
      "        [0.02702703],\n",
      "        [0.05405405],\n",
      "        [0.04826255],\n",
      "        [0.03281853],\n",
      "        [0.05984557],\n",
      "        [0.08494207],\n",
      "        [0.08494207],\n",
      "        [0.06177607],\n",
      "        [0.02895753],\n",
      "        [0.        ],\n",
      "        [0.02702703],\n",
      "        [0.02123553],\n",
      "        [0.04247104],\n",
      "        [0.07142857],\n",
      "        [0.05984557],\n",
      "        [0.04054055],\n",
      "        [0.08687258],\n",
      "        [0.12741312],\n",
      "        [0.12741312],\n",
      "        [0.10424709],\n",
      "        [0.05598456],\n",
      "        [0.01930502],\n",
      "        [0.06949806],\n",
      "        [0.07915059],\n",
      "        [0.08880308],\n",
      "        [0.14285713],\n",
      "        [0.11389962],\n",
      "        [0.13127413],\n",
      "        [0.14285713]]], dtype=float32), array([0.18339768], dtype=float32))\n"
     ]
    }
   ],
   "source": [
    "import torch\n",
    "import numpy as np\n",
    "import pandas as pd\n",
    "from sklearn.preprocessing import MinMaxScaler\n",
    "import matplotlib.pyplot as plt\n",
    "from torch.autograd import Variable\n",
    "from sklearn.metrics import mean_squared_error\n",
    "data_csv =pd.read_csv(\"./data_input/data_rnn.csv\", usecols=[1])\n",
    "data_csv = data_csv.dropna()\n",
    "dataset = data_csv.values\n",
    "dataset = dataset.astype(\"float32\")\n",
    "scaler = MinMaxScaler()\n",
    "dataset = scaler.fit_transform(dataset)\n",
    "look_back = 30\n",
    "def create_dataset(dataset, look_back):\n",
    "    dataX, dataY = [], []\n",
    "    for i in range(len(dataset) - look_back):\n",
    "        a = [dataset[i: (i + look_back)]]\n",
    "        dataX.append(a)\n",
    "        dataY.append(dataset[i + look_back])\n",
    "    return np.array(dataX), np.array(dataY)\n",
    "\n",
    "dataX, dataY = create_dataset(dataset, look_back)\n",
    "print(len(dataX))\n",
    "print(len(dataY))\n",
    "print(len(dataX[0]))\n",
    "print(len(dataY[0]))\n",
    "print((dataX[0],dataY[0]))"
   ],
   "metadata": {
    "collapsed": false,
    "ExecuteTime": {
     "end_time": "2024-05-31T11:43:09.294848100Z",
     "start_time": "2024-05-31T11:43:06.747898900Z"
    }
   },
   "id": "391174fa42db7d23",
   "execution_count": 12
  },
  {
   "cell_type": "code",
   "outputs": [],
   "source": [
    "len(dataX[0][0])"
   ],
   "metadata": {
    "collapsed": false
   },
   "id": "50329b84b36a9160"
  },
  {
   "cell_type": "markdown",
   "source": [
    "## --------????--------"
   ],
   "metadata": {
    "collapsed": false
   },
   "id": "5743efa2b3bfedb2"
  },
  {
   "cell_type": "code",
   "outputs": [
    {
     "data": {
      "text/plain": "(3, 3, 3)"
     },
     "execution_count": 30,
     "metadata": {},
     "output_type": "execute_result"
    }
   ],
   "source": [
    "import numpy as np\n",
    "xx = np.array([[[1,2,3],[4,5,6],[7,8,9]],[[10,11,12],[13,14,15],[16,17,18]],[[19,20,21],[22,23,24],[25,26,27]]])\n",
    "xx.shape"
   ],
   "metadata": {
    "collapsed": false,
    "ExecuteTime": {
     "end_time": "2024-06-03T08:04:34.579578100Z",
     "start_time": "2024-06-03T08:04:34.566551700Z"
    }
   },
   "id": "9454beac49a3da48",
   "execution_count": 30
  },
  {
   "cell_type": "code",
   "outputs": [
    {
     "data": {
      "text/plain": "array([[[10, 11],\n        [13, 14]],\n\n       [[19, 20],\n        [22, 23]]])"
     },
     "execution_count": 31,
     "metadata": {},
     "output_type": "execute_result"
    }
   ],
   "source": [
    "xx[1:,:2,:2]"
   ],
   "metadata": {
    "collapsed": false,
    "ExecuteTime": {
     "end_time": "2024-06-03T08:04:36.618314400Z",
     "start_time": "2024-06-03T08:04:36.597376200Z"
    }
   },
   "id": "3363595c893f41ee",
   "execution_count": 31
  },
  {
   "cell_type": "code",
   "outputs": [
    {
     "name": "stdout",
     "output_type": "stream",
     "text": [
      "原数组：\n",
      "[[[[0 1]\n",
      "   [2 3]\n",
      "   [4 5]\n",
      "   [6 7]]]]\n",
      "展开的数组：\n",
      "[0 1 2 3 4 5 6 7]\n",
      "以 F 风格顺序展开的数组：\n",
      "[0 2 4 6 1 3 5 7]\n",
      "以 F 风格顺序展开的数组：\n",
      "[0 1 2 3 4 5 6 7]\n"
     ]
    }
   ],
   "source": [
    "import numpy as np\n",
    " \n",
    "a = np.arange(8).reshape(1,1,4,2) # 或者 .reshape((1,1,4,2)) 也行\n",
    " \n",
    "print ('原数组：')\n",
    "print (a)\n",
    "# 默认按行\n",
    " \n",
    "print ('展开的数组：')\n",
    "print (a.flatten())\n",
    " \n",
    "print ('以 F 风格顺序展开的数组：')\n",
    "print (a.flatten(order = 'F'))\n",
    "print ('以 F 风格顺序展开的数组：')\n",
    "print (a.flatten(order = 'A')) #'C' -- 按行，'F' -- 按列，'A' -- 原顺序"
   ],
   "metadata": {
    "collapsed": false,
    "ExecuteTime": {
     "end_time": "2024-06-05T10:34:27.339748900Z",
     "start_time": "2024-06-05T10:34:27.315753Z"
    }
   },
   "id": "42d5986a04e78916",
   "execution_count": 9
  }
 ],
 "metadata": {
  "kernelspec": {
   "display_name": "Python 3",
   "language": "python",
   "name": "python3"
  },
  "language_info": {
   "codemirror_mode": {
    "name": "ipython",
    "version": 2
   },
   "file_extension": ".py",
   "mimetype": "text/x-python",
   "name": "python",
   "nbconvert_exporter": "python",
   "pygments_lexer": "ipython2",
   "version": "2.7.6"
  }
 },
 "nbformat": 4,
 "nbformat_minor": 5
}
