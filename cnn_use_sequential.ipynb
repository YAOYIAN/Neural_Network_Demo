{
 "cells": [
  {
   "cell_type": "code",
   "execution_count": 6,
   "id": "initial_id",
   "metadata": {
    "collapsed": true,
    "ExecuteTime": {
     "end_time": "2024-05-31T09:54:23.021577600Z",
     "start_time": "2024-05-31T09:54:22.984898500Z"
    }
   },
   "outputs": [],
   "source": [
    "import torch\n",
    "import numpy as np\n",
    "from matplotlib import pyplot as plt\n",
    "from torch.utils.data import DataLoader\n",
    "from torchvision import transforms\n",
    "from torchvision import datasets\n",
    "import torch.nn.functional as F"
   ]
  },
  {
   "cell_type": "code",
   "outputs": [],
   "source": [
    "batch_size = 8\n",
    "transform = transforms.Compose([transforms.ToTensor(), transforms.Normalize((0.1307,), (0.3081,))])\n",
    "train_dataset = datasets.MNIST(root='G:/dataset/', train=True, download=False, transform=transform)  \n",
    "test_dataset = datasets.MNIST(root='G:/dataset/', train=False, download=False, transform=transform)\n",
    "train_loader = DataLoader(train_dataset, batch_size=batch_size, shuffle=True)\n",
    "test_loader = DataLoader(test_dataset, batch_size=batch_size, shuffle=False)"
   ],
   "metadata": {
    "collapsed": false,
    "ExecuteTime": {
     "end_time": "2024-05-31T09:54:23.096197500Z",
     "start_time": "2024-05-31T09:54:23.008583400Z"
    }
   },
   "id": "682112f5c02a39de",
   "execution_count": 7
  },
  {
   "cell_type": "code",
   "outputs": [
    {
     "data": {
      "text/plain": "<Figure size 432x288 with 12 Axes>",
      "image/png": "[encoded data removed]"
     },
     "metadata": {},
     "output_type": "display_data"
    }
   ],
   "source": [
    "fig = plt.figure()\n",
    "for i in range(12):\n",
    "    plt.subplot(3, 4, i+1)\n",
    "    plt.tight_layout()\n",
    "    plt.imshow(train_dataset.train_data[i], cmap='gray', interpolation='none')\n",
    "    plt.title(\"Labels: {}\".format(train_dataset.train_labels[i]))\n",
    "    plt.xticks([])\n",
    "    plt.yticks([])\n",
    "plt.show()"
   ],
   "metadata": {
    "collapsed": false,
    "ExecuteTime": {
     "end_time": "2024-05-31T09:54:24.462706100Z",
     "start_time": "2024-05-31T09:54:23.104384800Z"
    }
   },
   "id": "4dc50aaa5eb954b",
   "execution_count": 8
  },
  {
   "cell_type": "code",
   "outputs": [],
   "source": [
    "class Net(torch.nn.Module):\n",
    "    def __init__(self):\n",
    "        super(Net, self).__init__()\n",
    "        self.conv1 = torch.nn.Sequential(          #input shape 28*28\n",
    "            torch.nn.Conv2d(1, 10, kernel_size=5), #out: 10 * 24 * 24 \n",
    "            torch.nn.ReLU(),\n",
    "            torch.nn.MaxPool2d(kernel_size=2),  #out: 10 * 12 * 12\n",
    "        )\n",
    "        self.conv2 = torch.nn.Sequential(\n",
    "            torch.nn.Conv2d(10, 20, kernel_size=5), #out: 20 * 8 * 8\n",
    "            torch.nn.ReLU(),\n",
    "            torch.nn.MaxPool2d(kernel_size=2), #out: 20 * 4 * 4 = 320\n",
    "        )\n",
    "        self.fc = torch.nn.Sequential(\n",
    "            torch.nn.Linear(320, 50),\n",
    "            torch.nn.Linear(50, 10),\n",
    "        )\n",
    "\n",
    "    def forward(self, x):\n",
    "        batch_size = x.size(0)\n",
    "        x = self.conv1(x)  # 一层卷积层,一层池化层,一层激活层(图是先卷积后激活再池化，差别不大)\n",
    "        x = self.conv2(x)  # 再来一次\n",
    "        x = x.view(batch_size, -1)  # flatten 变成全连接网络需要的输入 (batch, 20,4,4) ==> (batch,320), -1 此处自动算出的是320\n",
    "        x = self.fc(x)\n",
    "        return x  # 最后输出的是维度为10的，也就是（对应数学符号的0~9）\n"
   ],
   "metadata": {
    "collapsed": false,
    "ExecuteTime": {
     "end_time": "2024-05-31T09:54:24.480442600Z",
     "start_time": "2024-05-31T09:54:24.470023800Z"
    }
   },
   "id": "5791d6ebd9664384",
   "execution_count": 9
  },
  {
   "cell_type": "code",
   "outputs": [],
   "source": [
    "learning_rate = 0.008 \n",
    "momentum = 0.02\n",
    "model = Net()\n",
    "criterion = torch.nn.CrossEntropyLoss()  # 交叉熵损失\n",
    "optimizer = torch.optim.SGD(model.parameters(), lr=learning_rate, momentum=momentum)  # lr学习率，momentum冲量"
   ],
   "metadata": {
    "collapsed": false,
    "ExecuteTime": {
     "end_time": "2024-05-31T09:54:24.562251300Z",
     "start_time": "2024-05-31T09:54:24.480442600Z"
    }
   },
   "id": "90ed8bccb9a1c8ca",
   "execution_count": 10
  },
  {
   "cell_type": "code",
   "outputs": [],
   "source": [
    "def train(epoch):\n",
    "    running_loss = 0.0  # 这整个epoch的loss清零\n",
    "    running_total = 0\n",
    "    running_correct = 0\n",
    "    for batch_idx, data in enumerate(train_loader, 0):\n",
    "        inputs, target = data\n",
    "        optimizer.zero_grad()\n",
    "\n",
    "        # forward + backward + update\n",
    "        outputs = model(inputs)\n",
    "        loss = criterion(outputs, target)\n",
    "\n",
    "        loss.backward()\n",
    "        optimizer.step()\n",
    "\n",
    "        # 把运行中的loss累加起来，为了下面300次一除\n",
    "        running_loss += loss.item()\n",
    "        # 把运行中的准确率acc算出来\n",
    "        _, predicted = torch.max(outputs.data, dim=1)\n",
    "        running_total += inputs.shape[0]\n",
    "        running_correct += (predicted == target).sum().item()\n",
    "\n",
    "        if batch_idx % 300 == 299:  # 不想要每一次都出loss，浪费时间，选择每300次出一个平均损失,和准确率\n",
    "            print('[%d, %5d]: loss: %.3f , acc: %.2f %%'\n",
    "                  % (epoch + 1, batch_idx + 1, running_loss / 300, 100 * running_correct / running_total))\n",
    "            running_loss = 0.0  # 这小批300的loss清零\n",
    "            running_total = 0\n",
    "            running_correct = 0  # 这小批300的acc清零"
   ],
   "metadata": {
    "collapsed": false,
    "ExecuteTime": {
     "end_time": "2024-05-31T09:54:24.563293400Z",
     "start_time": "2024-05-31T09:54:24.505238500Z"
    }
   },
   "id": "6f2af4e72ef59553",
   "execution_count": 11
  },
  {
   "cell_type": "code",
   "outputs": [],
   "source": [
    "def test():\n",
    "    correct = 0\n",
    "    total = 0\n",
    "    with torch.no_grad():  # 测试集不用算梯度\n",
    "        for data in test_loader:\n",
    "            images, labels = data\n",
    "            outputs = model(images)\n",
    "            _, predicted = torch.max(outputs.data, dim=1)  # dim = 1 列是第0个维度，行是第1个维度，沿着行(第1个维度)去找1.最大值和2.最大值的下标\n",
    "            total += labels.size(0)  # 张量之间的比较运算\n",
    "            correct += (predicted == labels).sum().item()\n",
    "    acc = correct / total\n",
    "    print(100 * acc)  # 求测试的准确率，正确数/总数\n",
    "    return acc"
   ],
   "metadata": {
    "collapsed": false,
    "ExecuteTime": {
     "end_time": "2024-05-31T09:56:23.526945300Z",
     "start_time": "2024-05-31T09:56:23.506148100Z"
    }
   },
   "id": "c285cdb5f14cefeb",
   "execution_count": 12
  },
  {
   "cell_type": "code",
   "outputs": [],
   "source": [
    "# super parameters\n",
    "EPOCH = 2"
   ],
   "metadata": {
    "collapsed": false,
    "ExecuteTime": {
     "end_time": "2024-05-31T09:57:26.672524300Z",
     "start_time": "2024-05-31T09:57:26.644739200Z"
    }
   },
   "id": "d25996ea6314c829",
   "execution_count": 13
  },
  {
   "cell_type": "code",
   "outputs": [
    {
     "name": "stdout",
     "output_type": "stream",
     "text": [
      "[1,   300]: loss: 1.455 , acc: 54.83 %\n",
      "[1,   600]: loss: 0.459 , acc: 85.21 %\n",
      "[1,   900]: loss: 0.305 , acc: 91.17 %\n",
      "[1,  1200]: loss: 0.257 , acc: 91.96 %\n",
      "[1,  1500]: loss: 0.210 , acc: 93.46 %\n",
      "[1,  1800]: loss: 0.170 , acc: 94.83 %\n",
      "[1,  2100]: loss: 0.155 , acc: 95.00 %\n",
      "[1,  2400]: loss: 0.162 , acc: 95.38 %\n",
      "[1,  2700]: loss: 0.145 , acc: 95.71 %\n",
      "[1,  3000]: loss: 0.123 , acc: 96.29 %\n",
      "[1,  3300]: loss: 0.129 , acc: 96.33 %\n",
      "[1,  3600]: loss: 0.103 , acc: 97.00 %\n",
      "[1,  3900]: loss: 0.136 , acc: 95.92 %\n",
      "[1,  4200]: loss: 0.127 , acc: 95.58 %\n",
      "[1,  4500]: loss: 0.089 , acc: 97.50 %\n",
      "[1,  4800]: loss: 0.112 , acc: 96.54 %\n",
      "[1,  5100]: loss: 0.090 , acc: 97.08 %\n",
      "[1,  5400]: loss: 0.117 , acc: 96.33 %\n",
      "[1,  5700]: loss: 0.092 , acc: 97.17 %\n",
      "[1,  6000]: loss: 0.103 , acc: 96.67 %\n",
      "[1,  6300]: loss: 0.091 , acc: 97.42 %\n",
      "[1,  6600]: loss: 0.081 , acc: 97.50 %\n",
      "[1,  6900]: loss: 0.084 , acc: 97.38 %\n",
      "[1,  7200]: loss: 0.089 , acc: 97.29 %\n",
      "[1,  7500]: loss: 0.086 , acc: 97.25 %\n",
      "97.75\n",
      "[2,   300]: loss: 0.082 , acc: 97.54 %\n",
      "[2,   600]: loss: 0.086 , acc: 97.04 %\n",
      "[2,   900]: loss: 0.087 , acc: 97.25 %\n",
      "[2,  1200]: loss: 0.078 , acc: 97.71 %\n",
      "[2,  1500]: loss: 0.077 , acc: 98.00 %\n",
      "[2,  1800]: loss: 0.061 , acc: 98.08 %\n",
      "[2,  2100]: loss: 0.063 , acc: 98.29 %\n",
      "[2,  2400]: loss: 0.059 , acc: 98.42 %\n",
      "[2,  2700]: loss: 0.056 , acc: 98.46 %\n",
      "[2,  3000]: loss: 0.060 , acc: 98.50 %\n",
      "[2,  3300]: loss: 0.089 , acc: 97.54 %\n",
      "[2,  3600]: loss: 0.068 , acc: 97.88 %\n",
      "[2,  3900]: loss: 0.079 , acc: 97.50 %\n",
      "[2,  4200]: loss: 0.067 , acc: 97.92 %\n",
      "[2,  4500]: loss: 0.065 , acc: 97.88 %\n",
      "[2,  4800]: loss: 0.063 , acc: 97.96 %\n",
      "[2,  5100]: loss: 0.060 , acc: 98.12 %\n",
      "[2,  5400]: loss: 0.067 , acc: 97.88 %\n",
      "[2,  5700]: loss: 0.056 , acc: 98.08 %\n",
      "[2,  6000]: loss: 0.068 , acc: 97.88 %\n",
      "[2,  6300]: loss: 0.052 , acc: 98.21 %\n",
      "[2,  6600]: loss: 0.060 , acc: 98.08 %\n",
      "[2,  6900]: loss: 0.052 , acc: 98.21 %\n",
      "[2,  7200]: loss: 0.069 , acc: 97.50 %\n",
      "[2,  7500]: loss: 0.057 , acc: 98.12 %\n",
      "98.33\n"
     ]
    },
    {
     "data": {
      "text/plain": "<Figure size 432x288 with 1 Axes>",
      "image/png": "[encoded data removed]"
     },
     "metadata": {
      "needs_background": "light"
     },
     "output_type": "display_data"
    }
   ],
   "source": [
    "if __name__ == '__main__':\n",
    "    acc_list_test = []\n",
    "    for epoch in range(EPOCH):\n",
    "        train(epoch)\n",
    "        # if epoch % 10 == 9:  #每训练10轮 测试1次\n",
    "        acc_test = test()\n",
    "        acc_list_test.append(acc_test)\n",
    "\n",
    "    plt.plot(acc_list_test)\n",
    "    plt.xlabel('Epoch')\n",
    "    plt.ylabel('Accuracy On TestSet')\n",
    "    plt.show()"
   ],
   "metadata": {
    "collapsed": false,
    "ExecuteTime": {
     "end_time": "2024-05-31T09:59:04.301844400Z",
     "start_time": "2024-05-31T09:57:56.657741Z"
    }
   },
   "id": "dee77f16b98debae",
   "execution_count": 14
  }
 ],
 "metadata": {
  "kernelspec": {
   "display_name": "Python 3",
   "language": "python",
   "name": "python3"
  },
  "language_info": {
   "codemirror_mode": {
    "name": "ipython",
    "version": 2
   },
   "file_extension": ".py",
   "mimetype": "text/x-python",
   "name": "python",
   "nbconvert_exporter": "python",
   "pygments_lexer": "ipython2",
   "version": "2.7.6"
  }
 },
 "nbformat": 4,
 "nbformat_minor": 5
}
