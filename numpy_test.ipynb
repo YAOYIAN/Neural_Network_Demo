{
 "cells": [
  {
   "cell_type": "markdown",
   "source": [
    "### 参考网址： https://www.runoob.com/numpy/numpy-array-manipulation.html"
   ],
   "metadata": {
    "collapsed": false
   },
   "id": "f8ba4f338eb50b85"
  },
  {
   "cell_type": "code",
   "outputs": [
    {
     "data": {
      "text/plain": "(3, 3, 3)"
     },
     "execution_count": 118,
     "metadata": {},
     "output_type": "execute_result"
    }
   ],
   "source": [
    "import numpy as np\n",
    "xx = np.array([[[1,2,3],[4,5,6],[7,8,9]],[[10,11,12],[13,14,15],[16,17,18]],[[19,20,21],[22,23,24],[25,26,27]]])\n",
    "xx.shape"
   ],
   "metadata": {
    "collapsed": true,
    "ExecuteTime": {
     "end_time": "2024-06-03T09:41:21.495215Z",
     "start_time": "2024-06-03T09:41:21.461808500Z"
    }
   },
   "id": "initial_id",
   "execution_count": 118
  },
  {
   "cell_type": "markdown",
   "source": [
    "## 切片\n",
    "##### 逐层索引，  该层从哪里开始（不写代表0）：到哪里结束（不包含该索引）（不写代表全部）：间隔多少（不写代表不间隔）"
   ],
   "metadata": {
    "collapsed": false
   },
   "id": "750002c915f00f4b"
  },
  {
   "cell_type": "code",
   "outputs": [
    {
     "data": {
      "text/plain": "array([[[11],\n        [14]],\n\n       [[20],\n        [23]]])"
     },
     "execution_count": 119,
     "metadata": {},
     "output_type": "execute_result"
    }
   ],
   "source": [
    "xx[1:,:2,1:2]"
   ],
   "metadata": {
    "collapsed": false,
    "ExecuteTime": {
     "end_time": "2024-06-03T09:41:21.518947200Z",
     "start_time": "2024-06-03T09:41:21.498906600Z"
    }
   },
   "id": "7601d5f931486350",
   "execution_count": 119
  },
  {
   "cell_type": "code",
   "outputs": [
    {
     "data": {
      "text/plain": "array([[[ 1,  2,  3],\n        [ 4,  5,  6],\n        [ 7,  8,  9]],\n\n       [[19, 20, 21],\n        [22, 23, 24],\n        [25, 26, 27]]])"
     },
     "execution_count": 120,
     "metadata": {},
     "output_type": "execute_result"
    }
   ],
   "source": [
    "xx[::2]"
   ],
   "metadata": {
    "collapsed": false,
    "ExecuteTime": {
     "end_time": "2024-06-03T09:41:21.574841500Z",
     "start_time": "2024-06-03T09:41:21.524467400Z"
    }
   },
   "id": "84e93e6eaf2ed56d",
   "execution_count": 120
  },
  {
   "cell_type": "code",
   "outputs": [
    {
     "data": {
      "text/plain": "array([[[ 9,  8,  7]],\n\n       [[18, 17, 16]],\n\n       [[27, 26, 25]]])"
     },
     "execution_count": 121,
     "metadata": {},
     "output_type": "execute_result"
    }
   ],
   "source": [
    "xx[:,-1:,::-1]"
   ],
   "metadata": {
    "collapsed": false,
    "ExecuteTime": {
     "end_time": "2024-06-03T09:41:21.577256200Z",
     "start_time": "2024-06-03T09:41:21.537414400Z"
    }
   },
   "id": "9b838b598630be8e",
   "execution_count": 121
  },
  {
   "cell_type": "code",
   "outputs": [
    {
     "data": {
      "text/plain": "array([[[ 9,  8,  7]],\n\n       [[18, 17, 16]],\n\n       [[27, 26, 25]]])"
     },
     "execution_count": 122,
     "metadata": {},
     "output_type": "execute_result"
    }
   ],
   "source": [
    "xx[...,-1:,::-1]  # 省略号与':' 等效"
   ],
   "metadata": {
    "collapsed": false,
    "ExecuteTime": {
     "end_time": "2024-06-03T09:41:21.654759800Z",
     "start_time": "2024-06-03T09:41:21.551689Z"
    }
   },
   "id": "eeafeedb80e04ab9",
   "execution_count": 122
  },
  {
   "cell_type": "code",
   "outputs": [
    {
     "name": "stdout",
     "output_type": "stream",
     "text": [
      "0\n",
      "0\n",
      "[(0, 0) (0, 0)]\n"
     ]
    }
   ],
   "source": [
    "z = np.zeros((2,2,2), dtype = [('x', 'i4'), ('y', 'i4')])  # x和y是两个字段，每个字段是一个整数{i4（int4）类型}，因此每个位置有两个0\n",
    "print(z[0,0,0]['y'])\n",
    "print(z[0][0][0]['x'])\n",
    "print(z[0][0])"
   ],
   "metadata": {
    "collapsed": false,
    "ExecuteTime": {
     "end_time": "2024-06-03T09:41:21.672075400Z",
     "start_time": "2024-06-03T09:41:21.581696900Z"
    }
   },
   "id": "d5ef4e6ab3332ab3",
   "execution_count": 123
  },
  {
   "cell_type": "markdown",
   "source": [],
   "metadata": {
    "collapsed": false
   },
   "id": "e2cf927eddc4cb0e"
  },
  {
   "cell_type": "markdown",
   "source": [
    "##### np.asarray与np.array的主要区别在于，（默认情况下）将会copy该对象，而 np.asarray 除非必要，否则不会copy该对象。"
   ],
   "metadata": {
    "collapsed": false
   },
   "id": "f5977ad8ca2ca201"
  },
  {
   "cell_type": "markdown",
   "source": [
    "## 花式索引"
   ],
   "metadata": {
    "collapsed": false
   },
   "id": "20cedbfb50512173"
  },
  {
   "cell_type": "code",
   "outputs": [
    {
     "name": "stdout",
     "output_type": "stream",
     "text": [
      "[1 4 5]\n",
      "<class 'numpy.ndarray'>\n"
     ]
    }
   ],
   "source": [
    "import numpy as np \n",
    " \n",
    "x = np.array([[1,  2],  [3,  4],  [5,  6]]) \n",
    "y = x[[0,1,2],  [0,1,0]]  # 取出x[0,0]，x[1,1]，x[2,0]，更加灵活，能直接组成array的形式\n",
    "print(y)\n",
    "print(type(y))"
   ],
   "metadata": {
    "collapsed": false,
    "ExecuteTime": {
     "end_time": "2024-06-03T11:58:13.132937600Z",
     "start_time": "2024-06-03T11:58:13.118010400Z"
    }
   },
   "id": "fa240de9098a0460",
   "execution_count": 126
  },
  {
   "cell_type": "code",
   "outputs": [
    {
     "name": "stdout",
     "output_type": "stream",
     "text": [
      "[11 22 33 44 55 66 77 88 99]\n",
      "-------读取下标对应的元素-------\n",
      "[11 44 33 66]\n",
      "[11 22 33 44]\n",
      "44\n",
      "[99 77]\n"
     ]
    }
   ],
   "source": [
    "import numpy as np\n",
    "x = np.array([11,22,33,44,55,66,77,88,99])\n",
    "print(x)\n",
    "# 一维数组读取指定下标对应的元素\n",
    "print(\"-------读取下标对应的元素-------\")\n",
    "x2 = x[[0,3,2,5]] # 使用花式索引\n",
    "print(x2) \n",
    "print(x[:4])\n",
    "print(x2[1])\n",
    "print(x[[-1,-3]])"
   ],
   "metadata": {
    "collapsed": false,
    "ExecuteTime": {
     "end_time": "2024-06-03T12:58:11.088517200Z",
     "start_time": "2024-06-03T12:58:11.061463300Z"
    }
   },
   "id": "21fa29adcb169203",
   "execution_count": 140
  },
  {
   "cell_type": "code",
   "outputs": [
    {
     "name": "stdout",
     "output_type": "stream",
     "text": [
      "[[ 0  1  2  3]\n",
      " [ 4  5  6  7]\n",
      " [ 8  9 10 11]\n",
      " [12 13 14 15]\n",
      " [16 17 18 19]\n",
      " [20 21 22 23]\n",
      " [24 25 26 27]\n",
      " [28 29 30 31]]\n",
      "----------\n",
      "(array([[1],\n",
      "       [5],\n",
      "       [7],\n",
      "       [2]]), array([[0, 3, 1, 2]]))\n",
      "----------\n",
      "[[ 4  7  5  6]\n",
      " [20 23 21 22]\n",
      " [28 31 29 30]\n",
      " [ 8 11  9 10]]\n"
     ]
    }
   ],
   "source": [
    "import numpy as np \n",
    "x=np.arange(32).reshape((8,4))  # 或者 .reshape((8,4)) 也行\n",
    "print(x)\n",
    "print(\"-\"*10)\n",
    "print(np.ix_([1,5,7,2],[0,3,1,2]))  # 笛卡尔积关系\n",
    "print(\"-\"*10)\n",
    "print (x[np.ix_([1,5,7,2],[0,3,1,2])])"
   ],
   "metadata": {
    "collapsed": false,
    "ExecuteTime": {
     "end_time": "2024-06-03T12:59:25.197071900Z",
     "start_time": "2024-06-03T12:59:25.169950700Z"
    }
   },
   "id": "d922877ccb3a9f9",
   "execution_count": 142
  },
  {
   "cell_type": "code",
   "outputs": [
    {
     "name": "stdout",
     "output_type": "stream",
     "text": [
      "原数组：\n",
      "[[0 1 2 3]\n",
      " [4 5 6 7]]\n",
      "展开的数组：\n",
      "[0 1 2 3 4 5 6 7]\n",
      "以 F 风格顺序展开的数组：\n",
      "[0 4 1 5 2 6 3 7]\n",
      "以 F 风格顺序展开的数组：\n",
      "[0 1 2 3 4 5 6 7]\n"
     ]
    }
   ],
   "source": [
    "import numpy as np\n",
    " \n",
    "a = np.arange(8).reshape(2,4)\n",
    " \n",
    "print ('原数组：')\n",
    "print (a)\n",
    "# 默认按行\n",
    " \n",
    "print ('展开的数组：')\n",
    "print (a.flatten())\n",
    " \n",
    "print ('以 F 风格顺序展开的数组：')\n",
    "print (a.flatten(order = 'F'))\n",
    "print ('以 F 风格顺序展开的数组：')\n",
    "print (a.flatten(order = 'A')) #'C' -- 按行，'F' -- 按列，'A' -- 原顺序"
   ],
   "metadata": {
    "collapsed": false,
    "ExecuteTime": {
     "end_time": "2024-06-03T13:20:24.420006100Z",
     "start_time": "2024-06-03T13:20:24.382430900Z"
    }
   },
   "id": "ff3db93fb7e58eb1",
   "execution_count": 143
  },
  {
   "cell_type": "markdown",
   "source": [
    "### 返回数组的排序后的索引序列"
   ],
   "metadata": {
    "collapsed": false
   },
   "id": "5966297e1ed6c306"
  },
  {
   "cell_type": "code",
   "outputs": [
    {
     "name": "stdout",
     "output_type": "stream",
     "text": [
      "我们的数组是：\n",
      "[8 1 5]\n",
      "对 x 调用 argsort() 函数：\n",
      "[1 2 0]\n",
      "以排序后的顺序重构原数组：\n",
      "[1 5 8]\n"
     ]
    }
   ],
   "source": [
    "import numpy as np \n",
    " \n",
    "x = np.array([8,  1,  5])  \n",
    "print ('我们的数组是：')\n",
    "print (x)\n",
    "print ('对 x 调用 argsort() 函数：')\n",
    "y = np.argsort(x)  \n",
    "print (y)\n",
    "print ('以排序后的顺序重构原数组：')\n",
    "print (x[y])"
   ],
   "metadata": {
    "collapsed": false,
    "ExecuteTime": {
     "end_time": "2024-06-03T13:29:49.736235100Z",
     "start_time": "2024-06-03T13:29:49.719822800Z"
    }
   },
   "id": "cd28a4d396dbb090",
   "execution_count": 147
  },
  {
   "cell_type": "code",
   "outputs": [
    {
     "data": {
      "text/plain": "array([False,  True, False,  True, False,  True, False,  True, False,\n        True])"
     },
     "execution_count": 3,
     "metadata": {},
     "output_type": "execute_result"
    }
   ],
   "source": [
    "import numpy as np\n",
    "x = [1,2,3,4,5,6,7,8,9,10]\n",
    "s = np.array(x)\n",
    "s_mod2equal0 = np.array(s%2 == 0)\n",
    "s_mod2equal0"
   ],
   "metadata": {
    "collapsed": false,
    "ExecuteTime": {
     "end_time": "2024-06-04T12:17:02.242653500Z",
     "start_time": "2024-06-04T12:17:02.214106700Z"
    }
   },
   "id": "56cdbbafea034d20",
   "execution_count": 3
  },
  {
   "cell_type": "markdown",
   "source": [],
   "metadata": {
    "collapsed": false
   },
   "id": "d4974da7e523d7a0"
  }
 ],
 "metadata": {
  "kernelspec": {
   "display_name": "Python 3",
   "language": "python",
   "name": "python3"
  },
  "language_info": {
   "codemirror_mode": {
    "name": "ipython",
    "version": 2
   },
   "file_extension": ".py",
   "mimetype": "text/x-python",
   "name": "python",
   "nbconvert_exporter": "python",
   "pygments_lexer": "ipython2",
   "version": "2.7.6"
  }
 },
 "nbformat": 4,
 "nbformat_minor": 5
}
