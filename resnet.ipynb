{
 "cells": [
  {
   "cell_type": "markdown",
   "source": [
    "## 使用 库ResNet18"
   ],
   "metadata": {
    "collapsed": false
   },
   "id": "5aa57db6f10d2aa1"
  },
  {
   "cell_type": "code",
   "outputs": [],
   "source": [
    "import torch\n",
    "import torchvision\n",
    "import torchvision.transforms as transforms\n",
    "\n",
    "\n",
    "# 数据导入\n",
    "transform = transforms.Compose([\n",
    "    transforms.ToTensor(),\n",
    "    transforms.Normalize((0.5, ), (0.5, ))\n",
    "])\n",
    "BatchSize = 64\n",
    "trainset = torchvision.datasets.MNIST(root='G:/dataset/', train=True, download=False, transform=transform)\n",
    "testset = torchvision.datasets.MNIST(root='G:/dataset/', train=False, download=False, transform=transform)\n",
    "\n",
    "trainloader = torch.utils.data.DataLoader(trainset, batch_size=BatchSize, shuffle=True)\n",
    "testloader = torch.utils.data.DataLoader(testset, batch_size=BatchSize, shuffle=False)\n"
   ],
   "metadata": {
    "collapsed": false
   },
   "id": "f2ec9e3b332535f4"
  },
  {
   "cell_type": "code",
   "outputs": [
    {
     "name": "stdout",
     "output_type": "stream",
     "text": [
      "0/60000\n",
      "1000/60000\n",
      "2000/60000\n",
      "3000/60000\n",
      "4000/60000\n",
      "5000/60000\n",
      "6000/60000\n",
      "7000/60000\n",
      "8000/60000\n",
      "9000/60000\n",
      "10000/60000\n",
      "11000/60000\n",
      "12000/60000\n",
      "13000/60000\n",
      "14000/60000\n",
      "15000/60000\n",
      "16000/60000\n",
      "17000/60000\n",
      "18000/60000\n",
      "19000/60000\n",
      "20000/60000\n",
      "21000/60000\n",
      "22000/60000\n",
      "23000/60000\n",
      "24000/60000\n",
      "25000/60000\n",
      "26000/60000\n",
      "27000/60000\n",
      "28000/60000\n",
      "29000/60000\n",
      "30000/60000\n",
      "31000/60000\n",
      "32000/60000\n",
      "33000/60000\n",
      "34000/60000\n",
      "35000/60000\n",
      "36000/60000\n",
      "37000/60000\n",
      "38000/60000\n",
      "39000/60000\n",
      "40000/60000\n",
      "41000/60000\n",
      "42000/60000\n",
      "43000/60000\n",
      "44000/60000\n",
      "45000/60000\n",
      "46000/60000\n",
      "47000/60000\n",
      "48000/60000\n",
      "49000/60000\n",
      "50000/60000\n",
      "51000/60000\n",
      "52000/60000\n",
      "53000/60000\n",
      "54000/60000\n",
      "55000/60000\n",
      "56000/60000\n",
      "57000/60000\n",
      "58000/60000\n",
      "59000/60000\n"
     ]
    }
   ],
   "source": [
    "# import torchvision.transforms as transforms\n",
    "# from torchvision.datasets import MNIST\n",
    "# import os\n",
    "# \n",
    "# # 定义数据预处理\n",
    "# transform = transforms.Compose([\n",
    "#     transforms.ToTensor(),  # 将图片转换为Tensor\n",
    "# ])\n",
    "# \n",
    "# # 加载MNIST测试集\n",
    "# dataset = MNIST(root='G:/dataset/', train=True, download=False)\n",
    "# \n",
    "# # dataset = MNIST(root='./data', train=True, download=True)\n",
    "# # save_dir = 'mnist_train_images'\n",
    "# \n",
    "# # 创建保存图片的文件夹\n",
    "# save_dir = 'G:/dataset/mnist_train_images'\n",
    "# \n",
    "# if not os.path.exists(save_dir):\n",
    "#     os.makedirs(save_dir)\n",
    "# \n",
    "# # 将MNIST测试集中的图片保存为文件\n",
    "# for i in range(len(dataset)):\n",
    "#     if i%1000 == 0:\n",
    "#         print(f'{i}/{len(dataset)}')\n",
    "#     image, label = dataset[i]\n",
    "#     image = transform(image)  # 使用数据预处理步骤\n",
    "#     image = transforms.ToPILImage()(image)  # 将Tensor转换为PIL图片\n",
    "#     image.save(os.path.join(save_dir, f'{i:05d}.jpg'))\n"
   ],
   "metadata": {
    "collapsed": false,
    "ExecuteTime": {
     "end_time": "2024-05-21T06:54:55.019882400Z",
     "start_time": "2024-05-21T06:26:27.424111700Z"
    }
   },
   "id": "87d03ddccc32ec7e",
   "execution_count": 3
  },
  {
   "cell_type": "code",
   "outputs": [],
   "source": [
    "import torch\n",
    "from torchvision.models import resnet18\n",
    "import torch.nn as nn\n",
    "import torchvision.models as models\n",
    "\n",
    "\n",
    "# 创建自定义的ResNet-18模型类\n",
    "class CustomResNet18(nn.Module):\n",
    "    def __init__(self):\n",
    "        super(CustomResNet18, self).__init__()\n",
    "        self.resnet18 = models.resnet18(weights=None)\n",
    "        self.resnet18.conv1 = nn.Conv2d(1, 64, kernel_size=7, stride=2, padding=3, bias=False)  # 修改输入通道数为1\n",
    "        num_ftrs = self.resnet18.fc.in_features\n",
    "        self.resnet18.fc = nn.Linear(num_ftrs, 10)  # 修改输出大小为10（适应10个类别）\n",
    "\n",
    "    def forward(self, x):\n",
    "        x = self.resnet18.conv1(x)\n",
    "        x = self.resnet18.bn1(x)\n",
    "        x = self.resnet18.relu(x)\n",
    "        x = self.resnet18.maxpool(x)\n",
    "\n",
    "        x = self.resnet18.layer1(x)\n",
    "        x = self.resnet18.layer2(x)\n",
    "        x = self.resnet18.layer3(x)\n",
    "        x = self.resnet18.layer4(x)\n",
    "\n",
    "        x = self.resnet18.avgpool(x)\n",
    "        x = torch.flatten(x, 1)\n",
    "        x = self.resnet18.fc(x)\n",
    "\n",
    "        return x\n",
    "    \n",
    "# # 创建自定义ResNet-18模型实例\n",
    "# custom_resnet18 = CustomResNet18()\n"
   ],
   "metadata": {
    "collapsed": false,
    "ExecuteTime": {
     "end_time": "2024-05-21T06:55:55.560617500Z",
     "start_time": "2024-05-21T06:55:55.537828400Z"
    }
   },
   "id": "21ac9b77e3182550",
   "execution_count": 4
  },
  {
   "cell_type": "code",
   "outputs": [
    {
     "name": "stdout",
     "output_type": "stream",
     "text": [
      "[1,   200] loss: 0.049\n",
      "[1,   400] loss: 0.018\n",
      "[1,   600] loss: 0.014\n",
      "[1,   800] loss: 0.012\n",
      "[1,  1000] loss: 0.010\n",
      "[1,  1200] loss: 0.009\n",
      "[1,  1400] loss: 0.010\n",
      "[1,  1600] loss: 0.008\n",
      "[1,  1800] loss: 0.007\n",
      "Finished Training\n"
     ]
    }
   ],
   "source": [
    "# import torch\n",
    "# import torchvision\n",
    "# import torchvision.transforms as transforms\n",
    "# import torch.nn as nn\n",
    "# import torch.optim as optim\n",
    "# \n",
    "# # 数据处理\n",
    "# transform = transforms.Compose([\n",
    "#     transforms.ToTensor(),\n",
    "#     transforms.Normalize((0.5, ), (0.5, ))\n",
    "# ])\n",
    "# \n",
    "# trainset = torchvision.datasets.MNIST(root='G:/dataset/', train=True, download=False, transform=transform)\n",
    "# trainloader = torch.utils.data.DataLoader(trainset, batch_size=32, shuffle=True)\n",
    "# \n",
    "# \n",
    "# # 创建自定义ResNet-18模型实例\n",
    "# custom_resnet18 = CustomResNet18()\n",
    "# \n",
    "# # 使用GPU进行训练\n",
    "# device = torch.device(\"cuda:0\" if torch.cuda.is_available() else \"cpu\")\n",
    "# custom_resnet18.to(device)\n",
    "# \n",
    "# # 损失函数和优化器\n",
    "# criterion = nn.CrossEntropyLoss()\n",
    "# optimizer = optim.SGD(custom_resnet18.parameters(), lr=0.001, momentum=0.9)\n",
    "# #Adam优化\n",
    "# # optimizer = torch.optim.Adam(custom_resnet18.parameters(), lr=0.001)\n",
    "# \n",
    "# # 训练模型\n",
    "# for epoch in range(1):  # 遍历数据集多次\n",
    "#     running_loss = 0.0\n",
    "#     for i, data in enumerate(trainloader, 0):\n",
    "#         inputs, labels = data[0].to(device), data[1].to(device)\n",
    "#         optimizer.zero_grad()\n",
    "#         \n",
    "#         outputs = custom_resnet18(inputs)\n",
    "#         loss = criterion(outputs, labels)\n",
    "#         loss.backward()\n",
    "#         optimizer.step()\n",
    "# \n",
    "#         running_loss += loss.item()\n",
    "#         if i % 200 == 199:    # 每200个batch打印一次\n",
    "#             print('[%d, %5d] loss: %.3f' %\n",
    "#                   (epoch + 1, i + 1, running_loss / 2000))\n",
    "#             running_loss = 0.0\n",
    "#         \n",
    "#         if i==2000:\n",
    "#             break\n",
    "# \n",
    "# print('Finished Training')\n",
    "# \n",
    "# # 保存训练好的模型\n",
    "# PATH = './model_save/mnist_resnet18.pth'\n",
    "# torch.save(custom_resnet18.state_dict(), PATH)\n"
   ],
   "metadata": {
    "collapsed": false,
    "ExecuteTime": {
     "end_time": "2024-05-21T07:12:53.839375200Z",
     "start_time": "2024-05-21T07:02:36.070008200Z"
    }
   },
   "id": "723361d6aaa10a90",
   "execution_count": 7
  },
  {
   "cell_type": "code",
   "outputs": [
    {
     "name": "stdout",
     "output_type": "stream",
     "text": [
      "cpu\n",
      "模型准确率: 98 %\n"
     ]
    }
   ],
   "source": [
    "import torch\n",
    "import torchvision.transforms as transforms\n",
    "import torchvision\n",
    "\n",
    "\n",
    "# 使用GPU进行训练\n",
    "device = torch.device(\"cuda:0\" if torch.cuda.is_available() else \"cpu\")\n",
    "print(device)\n",
    "\n",
    "# 创建自定义ResNet-18模型实例\n",
    "custom_resnet18 = CustomResNet18().to(device)\n",
    "custom_resnet18.load_state_dict(torch.load('./model_save/mnist_resnet18.pth'))\n",
    "custom_resnet18.eval()\n",
    "\n",
    "# 数据处理\n",
    "transform = transforms.Compose([\n",
    "    transforms.ToTensor(),\n",
    "    transforms.Normalize((0.5, ), (0.5, ))\n",
    "])\n",
    "\n",
    "testset = torchvision.datasets.MNIST(root='G:/dataset/', train=False, download=False, transform=transform)\n",
    "testloader = torch.utils.data.DataLoader(testset, batch_size=64, shuffle=False)\n",
    "\n",
    "correct = 0\n",
    "total = 0\n",
    "with torch.no_grad():\n",
    "    for data in testloader:\n",
    "        images, labels = data[0].to(device), data[1].to(device)\n",
    "        outputs = custom_resnet18(images)\n",
    "        _, predicted = torch.max(outputs.data, 1)\n",
    "        total += labels.size(0)\n",
    "        correct += (predicted == labels).sum().item()\n",
    "\n",
    "print('模型准确率: %d %%' % (100 * correct / total))"
   ],
   "metadata": {
    "collapsed": false,
    "ExecuteTime": {
     "end_time": "2024-05-21T07:15:05.311391200Z",
     "start_time": "2024-05-21T07:14:53.825906500Z"
    }
   },
   "id": "40bd7827d5a029cc",
   "execution_count": 8
  },
  {
   "cell_type": "code",
   "outputs": [
    {
     "data": {
      "text/plain": "<Figure size 432x288 with 1 Axes>",
      "image/png": "[encoded data removed]"
     },
     "metadata": {
      "needs_background": "light"
     },
     "output_type": "display_data"
    },
    {
     "data": {
      "text/plain": "<Figure size 432x288 with 1 Axes>",
      "image/png": "[encoded data removed]"
     },
     "metadata": {
      "needs_background": "light"
     },
     "output_type": "display_data"
    },
    {
     "data": {
      "text/plain": "<Figure size 432x288 with 1 Axes>",
      "image/png": "[encoded data removed]"
     },
     "metadata": {
      "needs_background": "light"
     },
     "output_type": "display_data"
    },
    {
     "data": {
      "text/plain": "<Figure size 432x288 with 1 Axes>",
      "image/png": "[encoded data removed]"
     },
     "metadata": {
      "needs_background": "light"
     },
     "output_type": "display_data"
    },
    {
     "data": {
      "text/plain": "<Figure size 432x288 with 1 Axes>",
      "image/png": "[encoded data removed]"
     },
     "metadata": {
      "needs_background": "light"
     },
     "output_type": "display_data"
    },
    {
     "data": {
      "text/plain": "<Figure size 432x288 with 1 Axes>",
      "image/png": "[encoded data removed]"
     },
     "metadata": {
      "needs_background": "light"
     },
     "output_type": "display_data"
    },
    {
     "data": {
      "text/plain": "<Figure size 432x288 with 1 Axes>",
      "image/png": "[encoded data removed]"
     },
     "metadata": {
      "needs_background": "light"
     },
     "output_type": "display_data"
    },
    {
     "data": {
      "text/plain": "<Figure size 432x288 with 1 Axes>",
      "image/png": "[encoded data removed]"
     },
     "metadata": {
      "needs_background": "light"
     },
     "output_type": "display_data"
    },
    {
     "data": {
      "text/plain": "<Figure size 432x288 with 1 Axes>",
      "image/png": "[encoded data removed]"
     },
     "metadata": {
      "needs_background": "light"
     },
     "output_type": "display_data"
    },
    {
     "data": {
      "text/plain": "<Figure size 432x288 with 1 Axes>",
      "image/png": "[encoded data removed]"
     },
     "metadata": {
      "needs_background": "light"
     },
     "output_type": "display_data"
    }
   ],
   "source": [
    "import torch\n",
    "import torchvision.transforms as transforms\n",
    "from PIL import Image\n",
    "import matplotlib.pyplot as plt\n",
    "import numpy as np\n",
    "\n",
    "# 加载自定义的ResNet18模型\n",
    "model = CustomResNet18()\n",
    "model.load_state_dict(torch.load('./model_save/mnist_resnet18.pth'))\n",
    "model.eval()\n",
    "\n",
    "# 读取前十张图片进行预测\n",
    "for i in range(10):\n",
    "    image_path = f'G:/dataset/mnist_test_images\\\\{i:05d}.jpg'\n",
    "    image = Image.open(image_path)\n",
    "    image = image.convert('L')  # 转换为灰度图\n",
    "    # print(image.size)\n",
    "    # plt.imshow(image, cmap='gray')\n",
    "    transform = transforms.Compose([\n",
    "        transforms.ToTensor(),\n",
    "        transforms.Normalize((0.5,), (0.5,))\n",
    "    ])\n",
    "    image = transform(image).unsqueeze(0)\n",
    "\n",
    "    # 进行模型预测\n",
    "    with torch.no_grad():\n",
    "        output = model(image)\n",
    "        _, predicted = torch.max(output, 1)\n",
    "\n",
    "    # 在原图片右上角显示预测结果\n",
    "    image = np.array(image.squeeze(0) * 0.5 + 0.5)  # 将图像数据转换为numpy数组，并反归一化\n",
    "    image = np.reshape(image,(28,28))\n",
    "    plt.imshow(image, cmap='gray')\n",
    "    plt.text(5, 1, f'Predicted: {predicted.item()}', color='red', fontsize=16, ha='center')\n",
    "    plt.axis('off')\n",
    "    plt.show()\n"
   ],
   "metadata": {
    "collapsed": false,
    "ExecuteTime": {
     "end_time": "2024-05-21T07:30:59.062991800Z",
     "start_time": "2024-05-21T07:30:58.019942500Z"
    }
   },
   "id": "bac96af15436dfc5",
   "execution_count": 10
  }
 ],
 "metadata": {
  "kernelspec": {
   "display_name": "Python 3",
   "language": "python",
   "name": "python3"
  },
  "language_info": {
   "codemirror_mode": {
    "name": "ipython",
    "version": 2
   },
   "file_extension": ".py",
   "mimetype": "text/x-python",
   "name": "python",
   "nbconvert_exporter": "python",
   "pygments_lexer": "ipython2",
   "version": "2.7.6"
  }
 },
 "nbformat": 4,
 "nbformat_minor": 5
}
