{
 "cells": [
  {
   "cell_type": "code",
   "execution_count": 9,
   "id": "initial_id",
   "metadata": {
    "collapsed": true,
    "ExecuteTime": {
     "end_time": "2024-05-21T13:36:45.967214200Z",
     "start_time": "2024-05-21T13:36:45.932067100Z"
    }
   },
   "outputs": [],
   "source": [
    "import torch\n",
    "import numpy as np\n",
    "import pandas as pd\n",
    "import matplotlib.pyplot as plt\n",
    "from torch.autograd import Variable\n",
    "from sklearn.metrics import mean_squared_error\n",
    "from sklearn.preprocessing import MinMaxScaler\n",
    "data_csv =pd.read_csv(\"./data_input/data_rnn.csv\", usecols=[1])\n",
    "data_csv = data_csv.dropna()\n",
    "dataset = data_csv.values\n",
    "dataset = dataset.astype(\"float32\")\n",
    "scaler = MinMaxScaler()\n",
    "dataset = scaler.fit_transform(dataset)\n",
    "look_back = 30\n",
    "def create_dataset(dataset, look_back):\n",
    "    dataX, dataY = [], []\n",
    "    for i in range(len(dataset) - look_back):\n",
    "        a = [dataset[i: (i + look_back)]]\n",
    "        dataX.append(a)\n",
    "        dataY.append(dataset[i + look_back])\n",
    "    return np.array(dataX), np.array(dataY)\n",
    "dataX, dataY = create_dataset(dataset, look_back)\n",
    "#划分测试集的数量和训练集的数量\n",
    "alpha = 0.5\n",
    "train_size = int(len(dataX) * alpha)\n",
    "test_size = len(dataX) - train_size\n",
    "train_x = dataX[:train_size]\n",
    "train_y = dataY[:train_size]\n",
    "test_x = dataX[train_size:]\n",
    "test_y = dataY[train_size:]\n",
    "train_x = torch.from_numpy(train_x)\n",
    "train_x = train_x.squeeze(3)\n",
    "train_y = torch.from_numpy(train_y)\n",
    "test_x = torch.from_numpy(test_x)\n",
    "test_y = torch.from_numpy(test_y)"
   ]
  },
  {
   "cell_type": "markdown",
   "source": [
    "## 数据准备完毕，下方是：定义模型"
   ],
   "metadata": {
    "collapsed": false
   },
   "id": "9577fd85bda6fdbb"
  },
  {
   "cell_type": "code",
   "outputs": [],
   "source": [
    "class lstm_reg(torch.nn.Module):\n",
    "    def __init__(self, input_size, hidden_size, out_size = 1,num_layers = 2) -> None:\n",
    "        super(lstm_reg, self).__init__()\n",
    "        self.lstm = torch.nn.LSTM(input_size, hidden_size, num_layers)\n",
    "        self.reg = torch.nn.Linear(hidden_size, out_size)\n",
    "\n",
    "    def forward(self, x):\n",
    "        #seq, bacth_size, hidden\n",
    "        #有train_size个数据（seq）、每一组有look_back个\n",
    "        x, _ = self.lstm(x) \n",
    "        seq, batch_size, hidden_size = x.shape\n",
    "        x = x.reshape(seq * batch_size, hidden_size)\n",
    "        x = self.reg(x)\n",
    "        x.reshape(seq, batch_size, -1)\n",
    "        return x\n",
    "\n",
    "net = lstm_reg(look_back, 16)\n",
    "criterion = torch.nn.MSELoss()\n",
    "optimizer = torch.optim.Adam(net.parameters(), lr=1e-2)"
   ],
   "metadata": {
    "collapsed": false,
    "ExecuteTime": {
     "end_time": "2024-05-21T13:36:45.967214200Z",
     "start_time": "2024-05-21T13:36:45.945726200Z"
    }
   },
   "id": "1bacd575da7d5e03",
   "execution_count": 10
  },
  {
   "cell_type": "code",
   "outputs": [
    {
     "name": "stdout",
     "output_type": "stream",
     "text": [
      "lstm.weight_ih_l0 \t torch.Size([64, 30])\n",
      "lstm.weight_hh_l0 \t torch.Size([64, 16])\n",
      "lstm.bias_ih_l0 \t torch.Size([64])\n",
      "lstm.bias_hh_l0 \t torch.Size([64])\n",
      "lstm.weight_ih_l1 \t torch.Size([64, 16])\n",
      "lstm.weight_hh_l1 \t torch.Size([64, 16])\n",
      "lstm.bias_ih_l1 \t torch.Size([64])\n",
      "lstm.bias_hh_l1 \t torch.Size([64])\n",
      "reg.weight \t torch.Size([1, 16])\n",
      "reg.bias \t torch.Size([1])\n"
     ]
    }
   ],
   "source": [
    "for param_tensor in net.state_dict(): \n",
    "   print(param_tensor, '\\t', net.state_dict()[param_tensor].size())"
   ],
   "metadata": {
    "collapsed": false,
    "ExecuteTime": {
     "end_time": "2024-05-21T13:36:46.018305500Z",
     "start_time": "2024-05-21T13:36:45.959425700Z"
    }
   },
   "id": "117f2e50c79d868d",
   "execution_count": 11
  },
  {
   "cell_type": "code",
   "outputs": [
    {
     "name": "stdout",
     "output_type": "stream",
     "text": [
      "Epoch: 100, Loss: 0.00362\n",
      "Epoch: 200, Loss: 0.00056\n",
      "Epoch: 300, Loss: 0.00027\n",
      "Epoch: 400, Loss: 0.00014\n",
      "Epoch: 500, Loss: 0.00008\n",
      "Epoch: 600, Loss: 0.00012\n",
      "Epoch: 700, Loss: 0.00003\n",
      "Epoch: 800, Loss: 0.00003\n",
      "Epoch: 900, Loss: 0.00002\n",
      "Epoch: 1000, Loss: 0.00001\n",
      "Epoch: 1100, Loss: 0.00002\n",
      "Epoch: 1200, Loss: 0.00000\n",
      "Epoch: 1300, Loss: 0.00001\n",
      "Epoch: 1400, Loss: 0.00001\n",
      "Epoch: 1500, Loss: 0.00000\n",
      "Epoch: 1600, Loss: 0.00000\n",
      "Epoch: 1700, Loss: 0.00001\n",
      "Epoch: 1800, Loss: 0.00000\n",
      "Epoch: 1900, Loss: 0.00000\n",
      "Epoch: 2000, Loss: 0.00001\n",
      "Epoch: 2100, Loss: 0.00000\n",
      "Epoch: 2200, Loss: 0.00000\n"
     ]
    }
   ],
   "source": [
    "running_loss = 0.0\n",
    "for epoch in range(2200):\n",
    "\n",
    "    var_x = Variable(train_x).to(torch.float32)\n",
    "    var_y = Variable(train_y).to(torch.float32).reshape(train_size, -1)\n",
    "\n",
    "   \n",
    "    out = net(var_x)\n",
    "    loss = criterion(out, var_y)\n",
    "    running_loss += loss.item()\n",
    "    optimizer.zero_grad()\n",
    "    loss.backward()\n",
    "    \n",
    "    \n",
    "    optimizer.step()\n",
    "    if (epoch + 1) % 100 == 0: # 每 100 次输出结果\n",
    "        print('Epoch: {}, Loss: {:.5f}'.format(epoch + 1, running_loss / 100))\n",
    "        running_loss = 0.0"
   ],
   "metadata": {
    "collapsed": false,
    "ExecuteTime": {
     "end_time": "2024-05-21T13:37:31.264152700Z",
     "start_time": "2024-05-21T13:36:45.977590600Z"
    }
   },
   "id": "11801009920e00dd",
   "execution_count": 12
  },
  {
   "cell_type": "code",
   "outputs": [
    {
     "data": {
      "text/plain": "<matplotlib.legend.Legend at 0x1d7a5848f70>"
     },
     "execution_count": 13,
     "metadata": {},
     "output_type": "execute_result"
    },
    {
     "data": {
      "text/plain": "<Figure size 432x288 with 1 Axes>",
      "image/png": "[encoded data removed]"
     },
     "metadata": {
      "needs_background": "light"
     },
     "output_type": "display_data"
    }
   ],
   "source": [
    "net = net.eval() # 转换成测试模式\n",
    "data_x = dataX.reshape(-1, 1, look_back)\n",
    "data_x = torch.from_numpy(data_x).to(torch.float32)\n",
    "var_data = Variable(data_x)\n",
    "pred_test = net(var_data) # 测试集的预测结果\n",
    "pred_test = pred_test.view(-1).data.numpy()\n",
    "plt.plot(pred_test, 'deeppink', label='prediction')\n",
    "plt.plot(dataset[look_back:], 'green', label='real')\n",
    "plt.legend(loc='best')"
   ],
   "metadata": {
    "collapsed": false,
    "ExecuteTime": {
     "end_time": "2024-05-21T13:37:31.496853800Z",
     "start_time": "2024-05-21T13:37:31.268548800Z"
    }
   },
   "id": "79a93d57cba3ade2",
   "execution_count": 13
  },
  {
   "cell_type": "code",
   "outputs": [
    {
     "name": "stdout",
     "output_type": "stream",
     "text": [
      "0.0042698104\n"
     ]
    }
   ],
   "source": [
    "from sklearn.metrics import mean_squared_error\n",
    "MSE = mean_squared_error(dataset[look_back:], pred_test)\n",
    "print(MSE)"
   ],
   "metadata": {
    "collapsed": false,
    "ExecuteTime": {
     "end_time": "2024-05-21T13:38:49.460369600Z",
     "start_time": "2024-05-21T13:38:49.447182700Z"
    }
   },
   "id": "51f5ad3208dcd0f5",
   "execution_count": 14
  }
 ],
 "metadata": {
  "kernelspec": {
   "display_name": "Python 3",
   "language": "python",
   "name": "python3"
  },
  "language_info": {
   "codemirror_mode": {
    "name": "ipython",
    "version": 2
   },
   "file_extension": ".py",
   "mimetype": "text/x-python",
   "name": "python",
   "nbconvert_exporter": "python",
   "pygments_lexer": "ipython2",
   "version": "2.7.6"
  }
 },
 "nbformat": 4,
 "nbformat_minor": 5
}
