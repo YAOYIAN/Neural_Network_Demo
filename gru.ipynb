{
 "cells": [
  {
   "cell_type": "code",
   "execution_count": 11,
   "id": "initial_id",
   "metadata": {
    "collapsed": true,
    "ExecuteTime": {
     "end_time": "2024-05-21T13:37:39.396945600Z",
     "start_time": "2024-05-21T13:37:39.348712900Z"
    }
   },
   "outputs": [],
   "source": [
    "import torch\n",
    "import numpy as np\n",
    "import pandas as pd\n",
    "import matplotlib.pyplot as plt\n",
    "from torch.autograd import Variable\n",
    "from sklearn.metrics import mean_squared_error\n",
    "from sklearn.preprocessing import MinMaxScaler\n",
    "data_csv =pd.read_csv(\"./data_input/data_rnn.csv\", usecols=[1])\n",
    "data_csv = data_csv.dropna()\n",
    "dataset = data_csv.values\n",
    "dataset = dataset.astype(\"float32\")\n",
    "scaler = MinMaxScaler()\n",
    "dataset = scaler.fit_transform(dataset)\n",
    "look_back = 30\n",
    "def create_dataset(dataset, look_back):\n",
    "    dataX, dataY = [], []\n",
    "    for i in range(len(dataset) - look_back):\n",
    "        a = [dataset[i: (i + look_back)]]\n",
    "        dataX.append(a)\n",
    "        dataY.append(dataset[i + look_back])\n",
    "    return np.array(dataX), np.array(dataY)\n",
    "dataX, dataY = create_dataset(dataset, look_back)\n",
    "#划分测试集的数量和训练集的数量\n",
    "alpha = 0.5\n",
    "train_size = int(len(dataX) * alpha)\n",
    "test_size = len(dataX) - train_size\n",
    "train_x = dataX[:train_size]\n",
    "train_y = dataY[:train_size]\n",
    "test_x = dataX[train_size:]\n",
    "test_y = dataY[train_size:]\n",
    "train_x = torch.from_numpy(train_x)\n",
    "train_x = train_x.squeeze(3)\n",
    "train_y = torch.from_numpy(train_y)\n",
    "test_x = torch.from_numpy(test_x)\n",
    "test_y = torch.from_numpy(test_y)"
   ]
  },
  {
   "cell_type": "markdown",
   "source": [
    "## 数据准备完毕，下方是：定义模型"
   ],
   "metadata": {
    "collapsed": false
   },
   "id": "e6c4209448b95baa"
  },
  {
   "cell_type": "code",
   "outputs": [],
   "source": [
    "class gru_reg(torch.nn.Module):\n",
    "    def __init__(self, input_size, hidden_size, out_size = 1,num_layers = 2) -> None:\n",
    "        super(gru_reg, self).__init__()\n",
    "        self.GRU = torch.nn.GRU(input_size, hidden_size, num_layers)\n",
    "        self.reg = torch.nn.Linear(hidden_size, out_size)\n",
    "\n",
    "    def forward(self, x):\n",
    "        #seq, bacth_size, hidden\n",
    "        #有train_size个数据（seq）、每一组有look_back个\n",
    "        x, _ = self.GRU(x) \n",
    "        seq, batch_size, hidden_size = x.shape\n",
    "        x = x.reshape(seq * batch_size, hidden_size)\n",
    "        x = self.reg(x)\n",
    "        x.reshape(seq, batch_size, -1)\n",
    "        return x\n",
    "\n",
    "net = gru_reg(look_back, 16)\n",
    "criterion = torch.nn.MSELoss()\n",
    "optimizer = torch.optim.Adam(net.parameters(), lr=1e-2)"
   ],
   "metadata": {
    "collapsed": false,
    "ExecuteTime": {
     "end_time": "2024-05-21T13:37:39.410453400Z",
     "start_time": "2024-05-21T13:37:39.378598Z"
    }
   },
   "id": "a172c9f48aaa8712",
   "execution_count": 12
  },
  {
   "cell_type": "code",
   "outputs": [
    {
     "name": "stdout",
     "output_type": "stream",
     "text": [
      "GRU.weight_ih_l0 \t torch.Size([48, 30])\n",
      "GRU.weight_hh_l0 \t torch.Size([48, 16])\n",
      "GRU.bias_ih_l0 \t torch.Size([48])\n",
      "GRU.bias_hh_l0 \t torch.Size([48])\n",
      "GRU.weight_ih_l1 \t torch.Size([48, 16])\n",
      "GRU.weight_hh_l1 \t torch.Size([48, 16])\n",
      "GRU.bias_ih_l1 \t torch.Size([48])\n",
      "GRU.bias_hh_l1 \t torch.Size([48])\n",
      "reg.weight \t torch.Size([1, 16])\n",
      "reg.bias \t torch.Size([1])\n"
     ]
    }
   ],
   "source": [
    "for param_tensor in net.state_dict(): \n",
    "   print(param_tensor, '\\t', net.state_dict()[param_tensor].size())"
   ],
   "metadata": {
    "collapsed": false,
    "ExecuteTime": {
     "end_time": "2024-05-21T13:37:39.411557Z",
     "start_time": "2024-05-21T13:37:39.389987500Z"
    }
   },
   "id": "8dc9f3cfcf25a4ec",
   "execution_count": 13
  },
  {
   "cell_type": "code",
   "outputs": [
    {
     "name": "stdout",
     "output_type": "stream",
     "text": [
      "Epoch: 100, Loss: 0.00630\n",
      "Epoch: 200, Loss: 0.00070\n",
      "Epoch: 300, Loss: 0.00031\n",
      "Epoch: 400, Loss: 0.00017\n",
      "Epoch: 500, Loss: 0.00013\n",
      "Epoch: 600, Loss: 0.00010\n",
      "Epoch: 700, Loss: 0.00007\n",
      "Epoch: 800, Loss: 0.00005\n",
      "Epoch: 900, Loss: 0.00004\n",
      "Epoch: 1000, Loss: 0.00004\n",
      "Epoch: 1100, Loss: 0.00002\n",
      "Epoch: 1200, Loss: 0.00002\n",
      "Epoch: 1300, Loss: 0.00003\n",
      "Epoch: 1400, Loss: 0.00001\n",
      "Epoch: 1500, Loss: 0.00001\n",
      "Epoch: 1600, Loss: 0.00001\n",
      "Epoch: 1700, Loss: 0.00002\n",
      "Epoch: 1800, Loss: 0.00002\n",
      "Epoch: 1900, Loss: 0.00001\n",
      "Epoch: 2000, Loss: 0.00001\n",
      "Epoch: 2100, Loss: 0.00000\n",
      "Epoch: 2200, Loss: 0.00000\n"
     ]
    }
   ],
   "source": [
    "running_loss = 0.0\n",
    "for epoch in range(2200):\n",
    "\n",
    "    var_x = Variable(train_x).to(torch.float32)\n",
    "    var_y = Variable(train_y).to(torch.float32).reshape(train_size, -1)\n",
    "\n",
    "   \n",
    "    out = net(var_x)\n",
    "    loss = criterion(out, var_y)\n",
    "    running_loss += loss.item()\n",
    "    optimizer.zero_grad()\n",
    "    loss.backward()\n",
    "    \n",
    "    \n",
    "    optimizer.step()\n",
    "    if (epoch + 1) % 100 == 0: # 每 100 次输出结果\n",
    "        print('Epoch: {}, Loss: {:.5f}'.format(epoch + 1, running_loss / 100))\n",
    "        running_loss = 0.0"
   ],
   "metadata": {
    "collapsed": false,
    "ExecuteTime": {
     "end_time": "2024-05-21T13:38:29.878497Z",
     "start_time": "2024-05-21T13:37:39.406121Z"
    }
   },
   "id": "700465ca2c5dffd7",
   "execution_count": 14
  },
  {
   "cell_type": "code",
   "outputs": [
    {
     "data": {
      "text/plain": "<matplotlib.legend.Legend at 0x1e676333fa0>"
     },
     "execution_count": 15,
     "metadata": {},
     "output_type": "execute_result"
    },
    {
     "data": {
      "text/plain": "<Figure size 432x288 with 1 Axes>",
      "image/png": "[encoded data removed]"
     },
     "metadata": {
      "needs_background": "light"
     },
     "output_type": "display_data"
    }
   ],
   "source": [
    "net = net.eval() # 转换成测试模式\n",
    "data_x = dataX.reshape(-1, 1, look_back)\n",
    "data_x = torch.from_numpy(data_x).to(torch.float32)\n",
    "var_data = Variable(data_x)\n",
    "pred_test = net(var_data) # 测试集的预测结果\n",
    "pred_test = pred_test.view(-1).data.numpy()\n",
    "plt.plot(pred_test, 'deeppink', label='prediction')\n",
    "plt.plot(dataset[look_back:], 'green', label='real')\n",
    "plt.legend(loc='best')"
   ],
   "metadata": {
    "collapsed": false,
    "ExecuteTime": {
     "end_time": "2024-05-21T13:38:30.095420800Z",
     "start_time": "2024-05-21T13:38:29.884090600Z"
    }
   },
   "id": "adce46a32a141abb",
   "execution_count": 15
  },
  {
   "cell_type": "code",
   "outputs": [
    {
     "name": "stdout",
     "output_type": "stream",
     "text": [
      "0.0016702216\n"
     ]
    }
   ],
   "source": [
    "from sklearn.metrics import mean_squared_error\n",
    "MSE = mean_squared_error(dataset[look_back:], pred_test)\n",
    "print(MSE)"
   ],
   "metadata": {
    "collapsed": false,
    "ExecuteTime": {
     "end_time": "2024-05-21T13:38:55.856876300Z",
     "start_time": "2024-05-21T13:38:55.845653700Z"
    }
   },
   "id": "554dbc38dcac3955",
   "execution_count": 16
  }
 ],
 "metadata": {
  "kernelspec": {
   "display_name": "Python 3",
   "language": "python",
   "name": "python3"
  },
  "language_info": {
   "codemirror_mode": {
    "name": "ipython",
    "version": 2
   },
   "file_extension": ".py",
   "mimetype": "text/x-python",
   "name": "python",
   "nbconvert_exporter": "python",
   "pygments_lexer": "ipython2",
   "version": "2.7.6"
  }
 },
 "nbformat": 4,
 "nbformat_minor": 5
}
