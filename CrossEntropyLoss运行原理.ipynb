{
 "cells": [
  {
   "cell_type": "code",
   "execution_count": 130,
   "id": "initial_id",
   "metadata": {
    "collapsed": true,
    "ExecuteTime": {
     "end_time": "2024-05-30T13:01:30.185121900Z",
     "start_time": "2024-05-30T13:01:30.139380800Z"
    }
   },
   "outputs": [
    {
     "name": "stdout",
     "output_type": "stream",
     "text": [
      "torch.float32\n",
      "torch.float32\n",
      "tensor([[1., 0., 0.],\n",
      "        [0., 0., 1.]])\n"
     ]
    }
   ],
   "source": [
    "import torch\n",
    "import torch.nn as nn\n",
    "loss_fn = nn.CrossEntropyLoss()\n",
    "# 方便理解，此处假设batch_size = 1\n",
    "x_input = torch.randn(2, 3)   # 预测2个对象，每个对象分别属于三个类别分别的概率\n",
    "print(x_input.dtype)\n",
    "x_input = torch.FloatTensor([[1,0,0],[0,0,1]])  #此处实际上是概率值\n",
    "print(x_input.dtype)\n",
    "print(x_input)"
   ]
  },
  {
   "cell_type": "code",
   "outputs": [
    {
     "name": "stdout",
     "output_type": "stream",
     "text": [
      "tensor([0, 2])\n"
     ]
    }
   ],
   "source": [
    "# 需要的GT格式为(2)的tensor,其中的值范围必须在0-2(0<value<C-1)之间。\n",
    "x_target = torch.tensor([0, 2])  # 这里给出两个对象所属的类别标签即可，此处的意思为第一个对象属于第0类，第二个我对象属于第2类\n",
    "print(x_target)"
   ],
   "metadata": {
    "collapsed": false,
    "ExecuteTime": {
     "end_time": "2024-05-30T13:01:30.187302800Z",
     "start_time": "2024-05-30T13:01:30.165224600Z"
    }
   },
   "id": "9fb62b9a1941fbe4",
   "execution_count": 131
  },
  {
   "cell_type": "code",
   "outputs": [
    {
     "name": "stdout",
     "output_type": "stream",
     "text": [
      "loss:\n",
      " tensor(0.5514)\n"
     ]
    }
   ],
   "source": [
    "loss = loss_fn(x_input, x_target)\n",
    "print('loss:\\n', loss)"
   ],
   "metadata": {
    "collapsed": false,
    "ExecuteTime": {
     "end_time": "2024-05-30T13:01:30.258632700Z",
     "start_time": "2024-05-30T13:01:30.192950600Z"
    }
   },
   "id": "4fe5337ef1076b52",
   "execution_count": 132
  },
  {
   "cell_type": "markdown",
   "source": [
    "## 计算原理：\n",
    "### 1. 对每个batch中各数据的loss求了平均\n",
    "### 2. loss = −x[class]+log(∑j exp(x[j]) ), 其中x为各类别的预测概率数组，class为类别的索引\n",
    "### 3. 例如：-0.7+log(e^0.7+e^0.15+e^0.15)"
   ],
   "metadata": {
    "collapsed": false
   },
   "id": "68b3c26111ea8c"
  },
  {
   "cell_type": "code",
   "outputs": [
    {
     "data": {
      "text/plain": "0.5514447139320509"
     },
     "execution_count": 136,
     "metadata": {},
     "output_type": "execute_result"
    }
   ],
   "source": [
    "import numpy as np\n",
    "sss = np.e**1+np.e**0+np.e**0\n",
    "loss = -1+np.log(sss)\n",
    "loss"
   ],
   "metadata": {
    "collapsed": false,
    "ExecuteTime": {
     "end_time": "2024-05-30T13:03:56.059929600Z",
     "start_time": "2024-05-30T13:03:56.037486300Z"
    }
   },
   "id": "ee5489d5decbf78c",
   "execution_count": 136
  },
  {
   "cell_type": "code",
   "outputs": [
    {
     "name": "stdout",
     "output_type": "stream",
     "text": [
      "1 0.0\n",
      "2 0.3132616875182228\n",
      "3 0.5514447139320509\n",
      "4 0.743668380628679\n",
      "5 0.904832441554448\n",
      "6 1.0435917781858577\n",
      "7 1.1654221804855953\n",
      "8 1.2740088362278477\n",
      "9 1.3719508656009087\n",
      "10 1.4611501717344746\n"
     ]
    }
   ],
   "source": [
    "sss = np.e\n",
    "arr = []\n",
    "for i in range(1,11):\n",
    "    print(i,end = \" \")\n",
    "    print(np.log(sss)-1)\n",
    "    arr.append(-1+np.log(sss))\n",
    "    sss += 1 "
   ],
   "metadata": {
    "collapsed": false,
    "ExecuteTime": {
     "end_time": "2024-05-30T13:01:30.346661200Z",
     "start_time": "2024-05-30T13:01:30.229160900Z"
    }
   },
   "id": "1b4c944b611324bd",
   "execution_count": 134
  },
  {
   "cell_type": "markdown",
   "source": [
    "## 交叉熵损失函数的 最小类别数-最小loss 曲线："
   ],
   "metadata": {
    "collapsed": false
   },
   "id": "90fea709a345bc65"
  },
  {
   "cell_type": "code",
   "outputs": [
    {
     "data": {
      "text/plain": "[<matplotlib.lines.Line2D at 0x13c48c8abb0>]"
     },
     "execution_count": 135,
     "metadata": {},
     "output_type": "execute_result"
    },
    {
     "data": {
      "text/plain": "<Figure size 432x288 with 1 Axes>",
      "image/png": "[encoded data removed]"
     },
     "metadata": {
      "needs_background": "light"
     },
     "output_type": "display_data"
    }
   ],
   "source": [
    "import numpy as np\n",
    "import matplotlib.pyplot as plt\n",
    "plt.plot(arr)"
   ],
   "metadata": {
    "collapsed": false,
    "ExecuteTime": {
     "end_time": "2024-05-30T13:01:30.460390700Z",
     "start_time": "2024-05-30T13:01:30.274318800Z"
    }
   },
   "id": "fca9d4072131f701",
   "execution_count": 135
  }
 ],
 "metadata": {
  "kernelspec": {
   "display_name": "Python 3",
   "language": "python",
   "name": "python3"
  },
  "language_info": {
   "codemirror_mode": {
    "name": "ipython",
    "version": 2
   },
   "file_extension": ".py",
   "mimetype": "text/x-python",
   "name": "python",
   "nbconvert_exporter": "python",
   "pygments_lexer": "ipython2",
   "version": "2.7.6"
  }
 },
 "nbformat": 4,
 "nbformat_minor": 5
}
