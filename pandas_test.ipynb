{
 "cells": [
  {
   "cell_type": "markdown",
   "source": [
    "### 参考网址： https://www.runoob.com/pandas/pandas-series.html"
   ],
   "metadata": {
    "collapsed": false
   },
   "id": "72b1fe408771308e"
  },
  {
   "cell_type": "code",
   "outputs": [
    {
     "name": "stdout",
     "output_type": "stream",
     "text": [
      "a    0\n",
      "b    1\n",
      "c    2\n",
      "d    3\n",
      "e    4\n",
      "f    5\n",
      "g    6\n",
      "h    7\n",
      "i    8\n",
      "j    9\n",
      "dtype: int64\n",
      "------------------------\n",
      "b    1\n",
      "c    2\n",
      "d    3\n",
      "e    4\n",
      "dtype: int64\n",
      "------------------------\n",
      "b    1\n",
      "c    2\n",
      "d    3\n",
      "e    4\n",
      "f    5\n",
      "dtype: int64\n"
     ]
    }
   ],
   "source": [
    "import pandas as pd\n",
    "\n",
    "x = [i for i in range(10)]\n",
    "s = pd.Series(x, index=[\"a\", \"b\", \"c\", \"d\", \"e\", \"f\", \"g\", \"h\", \"i\", \"j\"])\n",
    "print(s)\n",
    "print(\"---\" * 8)\n",
    "print(s[1:5])\n",
    "print(\"---\" * 8)\n",
    "print(s['b':'f'])"
   ],
   "metadata": {
    "collapsed": true,
    "ExecuteTime": {
     "end_time": "2024-06-05T09:52:27.611384400Z",
     "start_time": "2024-06-05T09:52:27.382128Z"
    }
   },
   "id": "initial_id",
   "execution_count": 399
  },
  {
   "cell_type": "code",
   "outputs": [
    {
     "name": "stdout",
     "output_type": "stream",
     "text": [
      "a       6666\n",
      "c          2\n",
      "d          3\n",
      "e          4\n",
      "f          5\n",
      "g          6\n",
      "h          7\n",
      "i          8\n",
      "j          9\n",
      "what    8888\n",
      "dtype: int64\n"
     ]
    }
   ],
   "source": [
    "s['a'] = 6666\n",
    "del s['b']\n",
    "s['what'] = 8888\n",
    "print(s)"
   ],
   "metadata": {
    "collapsed": false,
    "ExecuteTime": {
     "end_time": "2024-06-05T09:52:27.617571200Z",
     "start_time": "2024-06-05T09:52:27.593415300Z"
    }
   },
   "id": "94bf72f34992f25d",
   "execution_count": 400
  },
  {
   "cell_type": "code",
   "outputs": [
    {
     "name": "stdout",
     "output_type": "stream",
     "text": [
      "a    6666\n",
      "c       2\n",
      "d       3\n",
      "e       4\n",
      "f       5\n",
      "g       6\n",
      "h       7\n",
      "i       8\n",
      "j       9\n",
      "dtype: int64\n",
      "------------------------\n",
      "a       6666\n",
      "c          2\n",
      "d          3\n",
      "e          4\n",
      "f          5\n",
      "g          6\n",
      "h          7\n",
      "i          8\n",
      "j          9\n",
      "what    8888\n",
      "dtype: int64\n"
     ]
    }
   ],
   "source": [
    "s_dropped = s.drop(['what'])  # 返回一个删除了索引标签 'b' 的新 Series\n",
    "print(s_dropped)\n",
    "print(\"---\" * 8)\n",
    "print(s)"
   ],
   "metadata": {
    "collapsed": false,
    "ExecuteTime": {
     "end_time": "2024-06-05T09:52:27.753820400Z",
     "start_time": "2024-06-05T09:52:27.624588400Z"
    }
   },
   "id": "d7d2bdce21fdc5ae",
   "execution_count": 401
  },
  {
   "cell_type": "code",
   "outputs": [
    {
     "data": {
      "text/plain": "a       6666\nc          2\ne          4\ng          6\ni          8\nwhat    8888\ndtype: int64"
     },
     "execution_count": 402,
     "metadata": {},
     "output_type": "execute_result"
    }
   ],
   "source": [
    "filtered_series = s[s % 2 == 0]  # 选择满足条件的元素\n",
    "filtered_series"
   ],
   "metadata": {
    "collapsed": false,
    "ExecuteTime": {
     "end_time": "2024-06-05T09:52:27.839229600Z",
     "start_time": "2024-06-05T09:52:27.728370900Z"
    }
   },
   "id": "a1a841cdfa171f9f",
   "execution_count": 402
  },
  {
   "cell_type": "code",
   "outputs": [
    {
     "name": "stdout",
     "output_type": "stream",
     "text": [
      "Index(['a', 'c', 'd', 'e', 'f', 'g', 'h', 'i', 'j', 'what'], dtype='object')\n",
      "[6666    2    3    4    5    6    7    8    9 8888]\n",
      "10\n",
      "count      10.000000\n",
      "mean     1559.800000\n",
      "std      3318.343355\n",
      "min         2.000000\n",
      "25%         4.250000\n",
      "50%         6.500000\n",
      "75%         8.750000\n",
      "max      8888.000000\n",
      "dtype: float64\n"
     ]
    }
   ],
   "source": [
    "print(s.index)\n",
    "print(s.values)\n",
    "print(s.size)\n",
    "print(s.describe())"
   ],
   "metadata": {
    "collapsed": false,
    "ExecuteTime": {
     "end_time": "2024-06-05T09:52:27.879393100Z",
     "start_time": "2024-06-05T09:52:27.796761800Z"
    }
   },
   "id": "2c2f1a3120a2731f",
   "execution_count": 403
  },
  {
   "cell_type": "code",
   "outputs": [
    {
     "name": "stdout",
     "output_type": "stream",
     "text": [
      "a       6666\n",
      "c          2\n",
      "d          3\n",
      "e          4\n",
      "f          5\n",
      "g          6\n",
      "h          7\n",
      "i          8\n",
      "j          9\n",
      "what    8888\n",
      "dtype: int64\n",
      "------------------------\n",
      "a        True\n",
      "c        True\n",
      "d       False\n",
      "e        True\n",
      "f       False\n",
      "g        True\n",
      "h       False\n",
      "i        True\n",
      "j       False\n",
      "what     True\n",
      "dtype: bool\n"
     ]
    }
   ],
   "source": [
    "d = s % 2 == 0\n",
    "print(s)\n",
    "print(\"---\" * 8)\n",
    "print(d)"
   ],
   "metadata": {
    "collapsed": false,
    "ExecuteTime": {
     "end_time": "2024-06-05T09:52:27.975219100Z",
     "start_time": "2024-06-05T09:52:27.856821100Z"
    }
   },
   "id": "c4df680047db0096",
   "execution_count": 404
  },
  {
   "cell_type": "markdown",
   "source": [
    "## ------------------------------------------------------------------------"
   ],
   "metadata": {
    "collapsed": false
   },
   "id": "8c4a4b8ad375f0c7"
  },
  {
   "cell_type": "markdown",
   "source": [
    "### dataframe可视为一系列 series列 组成的集合，因此df['c1']取出的是一列数据"
   ],
   "metadata": {
    "collapsed": false
   },
   "id": "a4b5f9a308165147"
  },
  {
   "cell_type": "code",
   "outputs": [
    {
     "name": "stdout",
     "output_type": "stream",
     "text": [
      "        column_1  column_2\n",
      "index_1        a        11\n",
      "index_2        b        22\n",
      "index_3        c        33\n",
      "------------------------\n",
      "        column_1  column_2\n",
      "index_1        a      11.0\n",
      "index_2        b      22.0\n",
      "index_3        c      33.0\n"
     ]
    }
   ],
   "source": [
    "import pandas as pd\n",
    "\n",
    "data = [['a', 11], \n",
    "        ['b', 22], \n",
    "        ['c', 33]]\n",
    "df = pd.DataFrame(data, columns=['column_1', 'column_2'], index=['index_1', 'index_2', 'index_3']) # 创建DataFrame\n",
    "print(df)\n",
    "print(\"-\" * 24)\n",
    "df['column_2'] = df['column_2'].astype(float) # 使用astype方法设置每列的数据类型\n",
    "print(df)"
   ],
   "metadata": {
    "collapsed": false,
    "ExecuteTime": {
     "end_time": "2024-06-05T09:52:28.040575900Z",
     "start_time": "2024-06-05T09:52:27.923538300Z"
    }
   },
   "id": "864754b409ad7656",
   "execution_count": 405
  },
  {
   "cell_type": "markdown",
   "source": [
    "### 使用字典+值数组 逐列创建, 不支持自动广播，各数组的长度必须一致"
   ],
   "metadata": {
    "collapsed": false
   },
   "id": "59a0d352e2b0c095"
  },
  {
   "cell_type": "code",
   "outputs": [
    {
     "name": "stdout",
     "output_type": "stream",
     "text": [
      "  column_1  column_2\n",
      "0        a        11\n",
      "1        b        22\n",
      "2        c        33\n"
     ]
    }
   ],
   "source": [
    "import pandas as pd\n",
    "data_2 = {'column_1':['a', 'b', 'c'], 'column_2':[11, 22, 33]}\n",
    "df = pd.DataFrame(data_2)\n",
    "print(df)"
   ],
   "metadata": {
    "collapsed": false,
    "ExecuteTime": {
     "end_time": "2024-06-05T09:52:28.126807Z",
     "start_time": "2024-06-05T09:52:28.014912100Z"
    }
   },
   "id": "2f78da518823419f",
   "execution_count": 406
  },
  {
   "cell_type": "markdown",
   "source": [
    "### 使用数组+字典 逐行创建，支持自动广播，各字典长度可不一致"
   ],
   "metadata": {
    "collapsed": false
   },
   "id": "17a018e32ef64026"
  },
  {
   "cell_type": "code",
   "outputs": [
    {
     "name": "stdout",
     "output_type": "stream",
     "text": [
      "  column_1  column_2\n",
      "0        a       NaN\n",
      "1        b      22.0\n"
     ]
    }
   ],
   "source": [
    "import pandas as pd\n",
    "data_3 = [{'column_1': 'a'},{'column_1': 'b', 'column_2': 22}]\n",
    "df_3 = pd.DataFrame(data_3)\n",
    "print(df_3)"
   ],
   "metadata": {
    "collapsed": false,
    "ExecuteTime": {
     "end_time": "2024-06-05T09:52:28.222341300Z",
     "start_time": "2024-06-05T09:52:28.133734300Z"
    }
   },
   "id": "2e8cba3082f83888",
   "execution_count": 407
  },
  {
   "cell_type": "markdown",
   "source": [
    "### loc属性返回指定 行 的数据，如果没有设置索引，第一行索引为0，否则不可使用0索引第一行"
   ],
   "metadata": {
    "collapsed": false
   },
   "id": "be9eb603b36c46cb"
  },
  {
   "cell_type": "code",
   "outputs": [
    {
     "name": "stdout",
     "output_type": "stream",
     "text": [
      "        column_1  column_2\n",
      "index_1        a        11\n",
      "index_2        b        22\n",
      "index_3        c        33\n",
      "------------------------\n",
      "<class 'pandas.core.series.Series'>\n",
      "------------------------\n",
      "column_1     a\n",
      "column_2    11\n",
      "Name: index_1, dtype: object\n",
      "-*-*-*-*-*-*-*-*-*-*-*-*\n",
      "<class 'pandas.core.frame.DataFrame'>\n"
     ]
    },
    {
     "data": {
      "text/plain": "        column_1  column_2\nindex_2        b        22\nindex_3        c        33",
      "text/html": "<div>\n<style scoped>\n    .dataframe tbody tr th:only-of-type {\n        vertical-align: middle;\n    }\n\n    .dataframe tbody tr th {\n        vertical-align: top;\n    }\n\n    .dataframe thead th {\n        text-align: right;\n    }\n</style>\n<table border=\"1\" class=\"dataframe\">\n  <thead>\n    <tr style=\"text-align: right;\">\n      <th></th>\n      <th>column_1</th>\n      <th>column_2</th>\n    </tr>\n  </thead>\n  <tbody>\n    <tr>\n      <th>index_2</th>\n      <td>b</td>\n      <td>22</td>\n    </tr>\n    <tr>\n      <th>index_3</th>\n      <td>c</td>\n      <td>33</td>\n    </tr>\n  </tbody>\n</table>\n</div>"
     },
     "execution_count": 408,
     "metadata": {},
     "output_type": "execute_result"
    }
   ],
   "source": [
    "df = pd.DataFrame(data, columns=['column_1', 'column_2'], index=['index_1', 'index_2', 'index_3']) # 创建DataFrame\n",
    "print(df)\n",
    "print(\"-\"*24)\n",
    "print(type(df.loc['index_1']))\n",
    "print(\"-\"*24)\n",
    "print(df.loc['index_1']) #取出一行时，为Series类型\n",
    "print(\"-*\"*12)\n",
    "print(type(df.loc[['index_2','index_3']])) #取出多行时，为DataFrame类型\n",
    "df.loc[['index_2','index_3']]"
   ],
   "metadata": {
    "collapsed": false,
    "ExecuteTime": {
     "end_time": "2024-06-05T09:52:28.254076800Z",
     "start_time": "2024-06-05T09:52:28.180590600Z"
    }
   },
   "id": "717701682d299eb8",
   "execution_count": 408
  },
  {
   "cell_type": "code",
   "outputs": [
    {
     "name": "stdout",
     "output_type": "stream",
     "text": [
      "        column_1  column_2\n",
      "index_2        b        22\n",
      "index_3        c        33\n",
      "-*-*-*-*-*-*-*-*-*-*-*-*\n",
      "        column_1  column_2\n",
      "index_3        c        33\n"
     ]
    }
   ],
   "source": [
    "print(df.loc[df.column_2 > 12,'column_1':'column_2']) #取出某一列满足某条件的dataframe, 可以写两个条件\n",
    "print(\"-*\"*12)\n",
    "print(df.loc[df.column_2 > 24,['column_1','column_2']])"
   ],
   "metadata": {
    "collapsed": false,
    "ExecuteTime": {
     "end_time": "2024-06-05T09:52:28.345790400Z",
     "start_time": "2024-06-05T09:52:28.231664900Z"
    }
   },
   "id": "b762444571323320",
   "execution_count": 409
  },
  {
   "cell_type": "code",
   "outputs": [
    {
     "name": "stdout",
     "output_type": "stream",
     "text": [
      "  column_1  column_2\n",
      "0        a       NaN\n",
      "1        b      22.0\n",
      "-*-*-*-*-*-*-*-*-*-*-*-*\n",
      "(2, 2)\n",
      "-*-*-*-*-*-*-*-*-*-*-*-*\n",
      "<class 'pandas.core.frame.DataFrame'>\n",
      "RangeIndex: 2 entries, 0 to 1\n",
      "Data columns (total 2 columns):\n",
      " #   Column    Non-Null Count  Dtype  \n",
      "---  ------    --------------  -----  \n",
      " 0   column_1  2 non-null      object \n",
      " 1   column_2  1 non-null      float64\n",
      "dtypes: float64(1), object(1)\n",
      "memory usage: 160.0+ bytes\n",
      "None\n",
      "-*-*-*-*-*-*-*-*-*-*-*-*\n",
      "       column_2\n",
      "count       1.0\n",
      "mean       22.0\n",
      "std         NaN\n",
      "min        22.0\n",
      "25%        22.0\n",
      "50%        22.0\n",
      "75%        22.0\n",
      "max        22.0\n"
     ]
    }
   ],
   "source": [
    "print(df_3.head())    # 前几行数据，默认是前 5 行\n",
    "print(\"-*\"*12)\n",
    "print(df_3.shape)     # 形状\n",
    "print(\"-*\"*12)\n",
    "print(df_3.info())    # 数据信息\n",
    "print(\"-*\"*12)\n",
    "print(df_3.describe())# 描述统计信息"
   ],
   "metadata": {
    "collapsed": false,
    "ExecuteTime": {
     "end_time": "2024-06-05T09:52:28.438286500Z",
     "start_time": "2024-06-05T09:52:28.335077200Z"
    }
   },
   "id": "628ffb6eb6a07bc",
   "execution_count": 410
  },
  {
   "cell_type": "markdown",
   "source": [
    "### 使用 列名 作为属性或通过 .loc[]、.iloc[] 访问，也可以使用标签或位置索引"
   ],
   "metadata": {
    "collapsed": false
   },
   "id": "383150322bd479bb"
  },
  {
   "cell_type": "markdown",
   "source": [
    "#### DataFrame.loc[行标签,列标签]\n",
    "#### DataFrame.iloc[行位置,列位置] (index location)"
   ],
   "metadata": {
    "collapsed": false
   },
   "id": "7b7d73c655d7b5c"
  },
  {
   "cell_type": "code",
   "outputs": [
    {
     "name": "stdout",
     "output_type": "stream",
     "text": [
      "        column_1  column_2\n",
      "index_1        a        11\n",
      "index_2        b        22\n",
      "index_3        c        33\n",
      "------------------------\n",
      "index_1    a\n",
      "index_2    b\n",
      "index_3    c\n",
      "Name: column_1, dtype: object\n",
      "------------------------\n",
      "index_1    a\n",
      "index_2    b\n",
      "index_3    c\n",
      "Name: column_1, dtype: object\n",
      "------------------------\n",
      "index_1    a\n",
      "index_2    b\n",
      "index_3    c\n",
      "Name: column_1, dtype: object\n",
      "-*-*-*-*-*-*-*-*-*-*-*-*\n",
      "index_1    11\n",
      "index_2    22\n",
      "index_3    33\n",
      "Name: column_2, dtype: int64\n",
      "------------------------\n",
      "a\n",
      "a\n",
      "a\n"
     ]
    }
   ],
   "source": [
    "print(df)\n",
    "print(\"--\"*12)\n",
    "print(df['column_1']) # 通过列名访问\n",
    "print(\"--\"*12)\n",
    "print(df.column_1) # 通过属性访问\n",
    "print(\"--\"*12)\n",
    "print(df.loc[:, 'column_1']) # 通过 .loc[] 访问, 相当于选中所有 行 和给定的 列\n",
    "print(\"-*\"*12)\n",
    "print(df.iloc[:, 1]) # 通过 .iloc[] 访问\n",
    "print(\"--\"*12)\n",
    "print(df['column_1'][0]) # 访问单个元素\n",
    "print(df['column_1']['index_1']) # 访问单个元素\n",
    "print(df.loc['index_1','column_1'])"
   ],
   "metadata": {
    "collapsed": false,
    "ExecuteTime": {
     "end_time": "2024-06-05T09:52:28.519981800Z",
     "start_time": "2024-06-05T09:52:28.387130700Z"
    }
   },
   "id": "825c0b60691c4ea",
   "execution_count": 411
  },
  {
   "cell_type": "markdown",
   "source": [
    "### 数据添加和修改"
   ],
   "metadata": {
    "collapsed": false
   },
   "id": "e7ab2aac081e4fa0"
  },
  {
   "cell_type": "code",
   "outputs": [
    {
     "name": "stdout",
     "output_type": "stream",
     "text": [
      "        column_1  column_2\n",
      "index_1        a        11\n",
      "index_2        b        22\n",
      "index_3        c        33\n"
     ]
    }
   ],
   "source": [
    "print(df)"
   ],
   "metadata": {
    "collapsed": false,
    "ExecuteTime": {
     "end_time": "2024-06-05T09:52:28.612419Z",
     "start_time": "2024-06-05T09:52:28.523313800Z"
    }
   },
   "id": "cdc941cf8b501368",
   "execution_count": 412
  },
  {
   "cell_type": "code",
   "outputs": [
    {
     "name": "stdout",
     "output_type": "stream",
     "text": [
      "        column_1  column_2  column_3\n",
      "index_1        a        11        44\n",
      "index_2        b        22        55\n",
      "index_3        c        33        66\n"
     ]
    }
   ],
   "source": [
    "df['column_3'] = [44, 55, 66] # 添加列\n",
    "print(df)"
   ],
   "metadata": {
    "collapsed": false,
    "ExecuteTime": {
     "end_time": "2024-06-05T09:52:28.720806300Z",
     "start_time": "2024-06-05T09:52:28.575320Z"
    }
   },
   "id": "92e2e30a9e47f661",
   "execution_count": 413
  },
  {
   "cell_type": "code",
   "outputs": [
    {
     "name": "stdout",
     "output_type": "stream",
     "text": [
      "        column_1  column_2  column_3\n",
      "index_1        a        11        44\n",
      "index_2        b        22        55\n",
      "index_3        c        33        66\n",
      "index_4        d        77        88\n"
     ]
    }
   ],
   "source": [
    "df.loc['index_4'] = ['d', 77, 88] # 添加行\n",
    "print(df)"
   ],
   "metadata": {
    "collapsed": false,
    "ExecuteTime": {
     "end_time": "2024-06-05T09:52:28.758651200Z",
     "start_time": "2024-06-05T09:52:28.704317900Z"
    }
   },
   "id": "d070ddf7c51e7569",
   "execution_count": 414
  },
  {
   "cell_type": "markdown",
   "source": [
    "### 合并dataframe\n",
    "#### concat: 纵向合并\n",
    "#### merge: 横向合并，可选择内连接, 左连接, 右连接, 外连接"
   ],
   "metadata": {
    "collapsed": false
   },
   "id": "ea8b6e54fd29c9a9"
  },
  {
   "cell_type": "code",
   "outputs": [
    {
     "name": "stdout",
     "output_type": "stream",
     "text": [
      "        column_1  column_2  column_3\n",
      "index_5        e        99       100\n",
      "index_6        f       111       122\n",
      "*-*-*-*-*-*-*-*-*-*-*-*-\n",
      "        column_1  column_2  column_3\n",
      "index_1        a        11        44\n",
      "index_2        b        22        55\n",
      "index_3        c        33        66\n",
      "index_4        d        77        88\n",
      "index_5        e        99       100\n",
      "index_6        f       111       122\n",
      "index_7        g       222       133\n"
     ]
    }
   ],
   "source": [
    "df2 = pd.DataFrame([['e', 99, 100], ['f', 111, 122]], columns=['column_1', 'column_2', 'column_3'], index=['index_5', 'index_6'])\n",
    "print(df2)\n",
    "print(\"*-\"*12)\n",
    "df3 = pd.DataFrame([['g',222, 133]], columns=['column_1', 'column_2', 'column_3'], index=['index_7'])\n",
    "df = pd.concat([df, df2, df3])  # 将新行添加到原始DataFrame\n",
    "print(df)"
   ],
   "metadata": {
    "collapsed": false,
    "ExecuteTime": {
     "end_time": "2024-06-05T09:52:28.840710Z",
     "start_time": "2024-06-05T09:52:28.771855400Z"
    }
   },
   "id": "e230224fa52a382b",
   "execution_count": 415
  },
  {
   "cell_type": "code",
   "outputs": [
    {
     "name": "stdout",
     "output_type": "stream",
     "text": [
      "        column_1  column_2  column_3\n",
      "index_1        a        11        44\n",
      "index_2        b        22        55\n",
      "index_3        c        33        66\n",
      "index_4        d        77        88\n",
      "index_5        e        99       100\n",
      "index_6        f       111       122\n",
      "index_7        g       222       133\n",
      "         column_3  column_4\n",
      "index_1        44      1212\n",
      "index_2        66      3434\n",
      "index_3        88      5656\n",
      "-*-*-*-*-*-*-*-*-*-*-*-*\n",
      "  column_1  column_2  column_3  column_4\n",
      "0        a        11        44      1212\n",
      "1        c        33        66      3434\n",
      "2        d        77        88      5656\n"
     ]
    }
   ],
   "source": [
    "df44 = pd.DataFrame([[44, 1212], [66, 3434], [88, 5656]], columns=['column_3', 'column_4'], index=['index_1', 'index_2', 'index_3'])\n",
    "print(df)\n",
    "print(df44)\n",
    "print(\"-*\"*12)\n",
    "df55 = pd.merge(df,df44)\n",
    "print(df55)"
   ],
   "metadata": {
    "collapsed": false,
    "ExecuteTime": {
     "end_time": "2024-06-05T09:52:28.961020500Z",
     "start_time": "2024-06-05T09:52:28.849717400Z"
    }
   },
   "id": "37f22de36f9fb4a9",
   "execution_count": 416
  },
  {
   "cell_type": "code",
   "outputs": [
    {
     "data": {
      "text/plain": "          column_2  column_3  column_4\ncolumn_2  1.000000  0.981981  0.981981\ncolumn_3  0.981981  1.000000  1.000000\ncolumn_4  0.981981  1.000000  1.000000",
      "text/html": "<div>\n<style scoped>\n    .dataframe tbody tr th:only-of-type {\n        vertical-align: middle;\n    }\n\n    .dataframe tbody tr th {\n        vertical-align: top;\n    }\n\n    .dataframe thead th {\n        text-align: right;\n    }\n</style>\n<table border=\"1\" class=\"dataframe\">\n  <thead>\n    <tr style=\"text-align: right;\">\n      <th></th>\n      <th>column_2</th>\n      <th>column_3</th>\n      <th>column_4</th>\n    </tr>\n  </thead>\n  <tbody>\n    <tr>\n      <th>column_2</th>\n      <td>1.000000</td>\n      <td>0.981981</td>\n      <td>0.981981</td>\n    </tr>\n    <tr>\n      <th>column_3</th>\n      <td>0.981981</td>\n      <td>1.000000</td>\n      <td>1.000000</td>\n    </tr>\n    <tr>\n      <th>column_4</th>\n      <td>0.981981</td>\n      <td>1.000000</td>\n      <td>1.000000</td>\n    </tr>\n  </tbody>\n</table>\n</div>"
     },
     "execution_count": 417,
     "metadata": {},
     "output_type": "execute_result"
    }
   ],
   "source": [
    "df55.corr() # 相关系数, 会自动计算数值型数据列之间的相关系数，默认是皮尔逊相关系数"
   ],
   "metadata": {
    "collapsed": false,
    "ExecuteTime": {
     "end_time": "2024-06-05T09:52:28.966338900Z",
     "start_time": "2024-06-05T09:52:28.890531400Z"
    }
   },
   "id": "3ecc8485531f7528",
   "execution_count": 417
  },
  {
   "cell_type": "code",
   "outputs": [
    {
     "data": {
      "text/plain": "          column_2  column_3  column_4\ncolumn_2       1.0       1.0       1.0\ncolumn_3       1.0       1.0       1.0\ncolumn_4       1.0       1.0       1.0",
      "text/html": "<div>\n<style scoped>\n    .dataframe tbody tr th:only-of-type {\n        vertical-align: middle;\n    }\n\n    .dataframe tbody tr th {\n        vertical-align: top;\n    }\n\n    .dataframe thead th {\n        text-align: right;\n    }\n</style>\n<table border=\"1\" class=\"dataframe\">\n  <thead>\n    <tr style=\"text-align: right;\">\n      <th></th>\n      <th>column_2</th>\n      <th>column_3</th>\n      <th>column_4</th>\n    </tr>\n  </thead>\n  <tbody>\n    <tr>\n      <th>column_2</th>\n      <td>1.0</td>\n      <td>1.0</td>\n      <td>1.0</td>\n    </tr>\n    <tr>\n      <th>column_3</th>\n      <td>1.0</td>\n      <td>1.0</td>\n      <td>1.0</td>\n    </tr>\n    <tr>\n      <th>column_4</th>\n      <td>1.0</td>\n      <td>1.0</td>\n      <td>1.0</td>\n    </tr>\n  </tbody>\n</table>\n</div>"
     },
     "execution_count": 418,
     "metadata": {},
     "output_type": "execute_result"
    }
   ],
   "source": [
    "df55.corr(method='spearman') "
   ],
   "metadata": {
    "collapsed": false,
    "ExecuteTime": {
     "end_time": "2024-06-05T09:52:29.053309200Z",
     "start_time": "2024-06-05T09:52:28.971033200Z"
    }
   },
   "id": "885e57d472c35d0e",
   "execution_count": 418
  },
  {
   "cell_type": "markdown",
   "source": [
    "### 删除 列或行\n",
    "#### axis:删除时所参考的轴，0为行，1为列\n",
    "#### inplace:是否在原数据上操作,默认是复制一份，不在原数据上操作"
   ],
   "metadata": {
    "collapsed": false
   },
   "id": "7057ac6463d0a979"
  },
  {
   "cell_type": "code",
   "outputs": [
    {
     "name": "stdout",
     "output_type": "stream",
     "text": [
      "        column_1  column_2\n",
      "index_1        a        11\n",
      "index_2        b        22\n",
      "index_3        c        33\n",
      "index_4        d        77\n",
      "index_5        e        99\n",
      "index_6        f       111\n",
      "index_7        g       222\n"
     ]
    }
   ],
   "source": [
    "df_dropped = df.drop('column_3',axis=1)\n",
    "print(df_dropped)"
   ],
   "metadata": {
    "collapsed": false,
    "ExecuteTime": {
     "end_time": "2024-06-05T09:52:29.113921Z",
     "start_time": "2024-06-05T09:52:29.016631Z"
    }
   },
   "id": "871ad4521da3fc89",
   "execution_count": 419
  },
  {
   "cell_type": "code",
   "outputs": [
    {
     "name": "stdout",
     "output_type": "stream",
     "text": [
      "        column_1  column_2\n",
      "index_1        a        11\n",
      "index_2        b        22\n",
      "index_3        c        33\n",
      "index_4        d        77\n",
      "index_5        e        99\n",
      "index_6        f       111\n"
     ]
    }
   ],
   "source": [
    "df_dropped = df_dropped.drop('index_7')  # 删除索引为 index_7 的行, 默认axis=0\n",
    "print(df_dropped)"
   ],
   "metadata": {
    "collapsed": false,
    "ExecuteTime": {
     "end_time": "2024-06-05T09:52:29.274307700Z",
     "start_time": "2024-06-05T09:52:29.066313400Z"
    }
   },
   "id": "766184750c4e5426",
   "execution_count": 420
  }
 ],
 "metadata": {
  "kernelspec": {
   "display_name": "Python 3",
   "language": "python",
   "name": "python3"
  },
  "language_info": {
   "codemirror_mode": {
    "name": "ipython",
    "version": 2
   },
   "file_extension": ".py",
   "mimetype": "text/x-python",
   "name": "python",
   "nbconvert_exporter": "python",
   "pygments_lexer": "ipython2",
   "version": "2.7.6"
  }
 },
 "nbformat": 4,
 "nbformat_minor": 5
}
