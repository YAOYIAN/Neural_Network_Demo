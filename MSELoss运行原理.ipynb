{
 "cells": [
  {
   "cell_type": "code",
   "execution_count": 138,
   "id": "initial_id",
   "metadata": {
    "collapsed": true,
    "ExecuteTime": {
     "end_time": "2024-05-30T13:16:57.494243200Z",
     "start_time": "2024-05-30T13:16:57.483964100Z"
    }
   },
   "outputs": [
    {
     "name": "stdout",
     "output_type": "stream",
     "text": [
      "tensor(0.)\n"
     ]
    }
   ],
   "source": [
    "import torch\n",
    "import torch.nn as nn\n",
    "x = torch.Tensor([[1, 0, 0],\n",
    "                  [0, 1, 0],\n",
    "                  [0, 0, 1]])\n",
    "\n",
    "y = torch.Tensor([[1, 0, 0],\n",
    "                  [0, 1, 0],\n",
    "                  [0, 0, 1]])\n",
    "criterion1 = nn.MSELoss()\n",
    "loss = criterion1(x, y)\n",
    "print(loss)"
   ]
  },
  {
   "cell_type": "markdown",
   "source": [
    "### 对batch中各数据的loss做了平均"
   ],
   "metadata": {
    "collapsed": false
   },
   "id": "21733c5787a07fdd"
  },
  {
   "cell_type": "code",
   "outputs": [
    {
     "name": "stdout",
     "output_type": "stream",
     "text": [
      "tensor(0.3333)\n"
     ]
    }
   ],
   "source": [
    "import torch\n",
    "import torch.nn as nn\n",
    "x = torch.Tensor([[1, 1, 0]])\n",
    "y = torch.Tensor([[1, 0, 0]])\n",
    "criterion1 = nn.MSELoss()\n",
    "loss = criterion1(x, y)\n",
    "print(loss)\n",
    "# loss = 1/3 * ((1-1)**2 + (1-0)**2 + (0-0)**2) = 0.3333"
   ],
   "metadata": {
    "collapsed": false,
    "ExecuteTime": {
     "end_time": "2024-05-30T13:18:03.810287Z",
     "start_time": "2024-05-30T13:18:03.795658700Z"
    }
   },
   "id": "28e050380b6cdd38",
   "execution_count": 140
  },
  {
   "cell_type": "code",
   "outputs": [
    {
     "name": "stdout",
     "output_type": "stream",
     "text": [
      "tensor(0.1111)\n"
     ]
    }
   ],
   "source": [
    "import torch\n",
    "import torch.nn as nn\n",
    "x = torch.Tensor([[1, 1, 0],\n",
    "                  [0, 1, 0],\n",
    "                  [0, 0, 1]])\n",
    "\n",
    "y = torch.Tensor([[1, 0, 0],\n",
    "                  [0, 1, 0],\n",
    "                  [0, 0, 1]])\n",
    "criterion1 = nn.MSELoss()\n",
    "loss = criterion1(x, y)\n",
    "print(loss)\n",
    "# 0.1111 = (0.3333+0+0)/3"
   ],
   "metadata": {
    "collapsed": false,
    "ExecuteTime": {
     "end_time": "2024-05-30T13:17:42.078753400Z",
     "start_time": "2024-05-30T13:17:42.046004600Z"
    }
   },
   "id": "896cf969dfb77433",
   "execution_count": 139
  }
 ],
 "metadata": {
  "kernelspec": {
   "display_name": "Python 3",
   "language": "python",
   "name": "python3"
  },
  "language_info": {
   "codemirror_mode": {
    "name": "ipython",
    "version": 2
   },
   "file_extension": ".py",
   "mimetype": "text/x-python",
   "name": "python",
   "nbconvert_exporter": "python",
   "pygments_lexer": "ipython2",
   "version": "2.7.6"
  }
 },
 "nbformat": 4,
 "nbformat_minor": 5
}
