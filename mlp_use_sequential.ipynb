{
 "cells": [
  {
   "cell_type": "code",
   "execution_count": 2,
   "id": "initial_id",
   "metadata": {
    "collapsed": true,
    "ExecuteTime": {
     "end_time": "2024-05-31T10:37:24.542459700Z",
     "start_time": "2024-05-31T10:37:24.465879Z"
    }
   },
   "outputs": [],
   "source": [
    "import torch\n",
    "import torch.nn as nn\n",
    "import torchvision                          #torch中用来处理图像的库\n",
    "from torchvision import datasets,transforms\n",
    "import matplotlib.pyplot as plt\n",
    "#设置一些超参\n",
    "num_epochs = 2        #训练的周期\n",
    "batch_size = 100      #批训练的数量\n",
    "learning_rate = 0.001 #学习率（0.1,0.01,0.001）\n",
    "#\n",
    "# 导入训练数据\n",
    "train_dataset = datasets.MNIST(root='G:/dataset/',  # 数据集保存路径\n",
    "                               train=True,  # 是否作为训练集\n",
    "                               transform=transforms.ToTensor(),  # 数据如何处理, 可以自己自定义\n",
    "                               download= False)  # 路径下没有的话, 可以下载\n",
    "\n",
    "# 导入测试数据\n",
    "test_dataset = datasets.MNIST(root='G:/dataset/',\n",
    "                              train=False,\n",
    "                              transform=transforms.ToTensor())\n",
    "\n",
    "\n",
    "train_loader = torch.utils.data.DataLoader(dataset=train_dataset, #分批\n",
    "                                           batch_size=batch_size,\n",
    "                                           shuffle=True)          #随机分批\n",
    "\n",
    "test_loader = torch.utils.data.DataLoader(dataset=test_dataset,\n",
    "                                          batch_size=batch_size,\n",
    "                                          shuffle=False)"
   ]
  },
  {
   "cell_type": "code",
   "outputs": [
    {
     "name": "stdout",
     "output_type": "stream",
     "text": [
      "Epoch [1/2], Loss: 0.5031\n",
      "Epoch [1/2], Loss: 0.1568\n",
      "Epoch [1/2], Loss: 0.2759\n",
      "Epoch [1/2], Loss: 0.1352\n",
      "Epoch [1/2], Loss: 0.1276\n",
      "Epoch [1/2], Loss: 0.1717\n",
      "Epoch [2/2], Loss: 0.1785\n",
      "Epoch [2/2], Loss: 0.0884\n",
      "Epoch [2/2], Loss: 0.1658\n",
      "Epoch [2/2], Loss: 0.1521\n",
      "Epoch [2/2], Loss: 0.1062\n",
      "Epoch [2/2], Loss: 0.1493\n",
      "测试准确率: 96.5900\n"
     ]
    }
   ],
   "source": [
    "\n",
    "\n",
    "class MLP(nn.Module):                    #继承nn.module\n",
    "    def __init__(self):\n",
    "        super(MLP, self).__init__()      #继承的作用\n",
    "        \n",
    "        self.sequential_1 = nn.Sequential(\n",
    "            nn.Linear(784,300),nn.ReLU(),nn.Linear(300,10)\n",
    "        )\n",
    "\n",
    "    def forward(self,x):             #网络传播的结构\n",
    "        \n",
    "        \n",
    "        x = x.reshape(-1, 28*28)\n",
    "        y = self.sequential_1(x)\n",
    "        return y\n",
    "\n",
    "mlp = MLP() #类的实例化\n",
    "loss_func = nn.CrossEntropyLoss()\n",
    "optimizer = torch.optim.Adam(mlp.parameters(), lr=learning_rate)\n",
    "\n",
    "for epoch in range(num_epochs):\n",
    "    for i, (images, labels) in enumerate(train_loader):\n",
    "        outputs = mlp(images)\n",
    "        loss = loss_func(outputs, labels)\n",
    "        optimizer.zero_grad()  # 清零梯度\n",
    "        loss.backward()  # 反向求梯度\n",
    "        optimizer.step()\n",
    "\n",
    "        if (i + 1) % 100 == 0:\n",
    "            print('Epoch [{}/{}], Loss: {:.4f}'.format(epoch + 1, num_epochs, loss.item()))\n",
    "\n",
    "\n",
    "#测试模型\n",
    "mlp.eval()      #测试模式，关闭正则化\n",
    "correct = 0\n",
    "total = 0\n",
    "for images, labels in test_loader:\n",
    "    outputs = mlp(images)\n",
    "    _, predicted = torch.max(outputs, 1)   #返回值和索引\n",
    "    total += labels.size(0)\n",
    "    correct += (predicted == labels).sum().item()\n",
    "\n",
    "print('测试准确率: {:.4f}'.format(100.0*correct/total))"
   ],
   "metadata": {
    "collapsed": false,
    "ExecuteTime": {
     "end_time": "2024-05-31T10:37:42.727146100Z",
     "start_time": "2024-05-31T10:37:24.553729Z"
    }
   },
   "id": "7061c146fb8d2e5d",
   "execution_count": 3
  }
 ],
 "metadata": {
  "kernelspec": {
   "display_name": "Python 3",
   "language": "python",
   "name": "python3"
  },
  "language_info": {
   "codemirror_mode": {
    "name": "ipython",
    "version": 2
   },
   "file_extension": ".py",
   "mimetype": "text/x-python",
   "name": "python",
   "nbconvert_exporter": "python",
   "pygments_lexer": "ipython2",
   "version": "2.7.6"
  }
 },
 "nbformat": 4,
 "nbformat_minor": 5
}
